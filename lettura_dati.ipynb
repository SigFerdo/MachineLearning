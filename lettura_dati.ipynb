{
 "cells": [
  {
   "attachments": {},
   "cell_type": "markdown",
   "metadata": {},
   "source": [
    "This code reads in the data from the parkinsons.csv file in your Dataset directory and separates the input features (features_normalized ) from the output class (labels). Note that we also drop the name column since it is not a useful feature for predicting Parkinson’s disease. We then create a MinMaxScaler object from scikit-learn and fit it on the input features. Finally, we use the scaler to transform the input features, resulting in a normalized version of the data."
   ]
  },
  {
   "cell_type": "code",
   "execution_count": 2,
   "metadata": {},
   "outputs": [],
   "source": [
    "import pandas as pd\n",
    "from sklearn.preprocessing import MinMaxScaler\n",
    "import numpy as np\n",
    "# Read in the data from the CSV file\n",
    "data = pd.read_csv('Dataset/parkinsons.csv')\n",
    "\n",
    "# Separate the input features and the output class\n",
    "features = data.drop(['name', 'status'], axis=1)\n",
    "labels = data['status']\n",
    "\n",
    "# Create a MinMaxScaler object\n",
    "scaler = MinMaxScaler()\n",
    "\n",
    "# Fit the scaler on the input features\n",
    "scaler.fit(features)\n",
    "\n",
    "# Transform the input features using the scaler\n",
    "features_normalized = scaler.transform(features)\n",
    "\n",
    "# Save the normalized input features to a file\n",
    "np.save('Pre_Processed_Data/features_normalized.npy', features_normalized)\n",
    "\n",
    "# Save the output class to a file\n",
    "np.save('Pre_Processed_Data/labels.npy', labels)"
   ]
  }
 ],
 "metadata": {
  "kernelspec": {
   "display_name": "Python 3",
   "language": "python",
   "name": "python3"
  },
  "language_info": {
   "codemirror_mode": {
    "name": "ipython",
    "version": 3
   },
   "file_extension": ".py",
   "mimetype": "text/x-python",
   "name": "python",
   "nbconvert_exporter": "python",
   "pygments_lexer": "ipython3",
   "version": "3.11.3"
  },
  "orig_nbformat": 4
 },
 "nbformat": 4,
 "nbformat_minor": 2
}
