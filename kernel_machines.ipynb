{
 "cells": [
  {
   "attachments": {},
   "cell_type": "markdown",
   "metadata": {},
   "source": [
    "# Caricamento dei dati e librerie"
   ]
  },
  {
   "cell_type": "code",
   "execution_count": 20,
   "metadata": {},
   "outputs": [],
   "source": [
    "import numpy as np\n",
    "from sklearn.model_selection import cross_val_score\n",
    "from sklearn.metrics import accuracy_score, classification_report, roc_curve, roc_auc_score, accuracy_score, confusion_matrix\n",
    "import matplotlib.pyplot as plt\n",
    "import seaborn as sns\n",
    "from sklearn.svm import SVC\n",
    "from skopt import gp_minimize\n",
    "from skopt.space import Real\n",
    "from skopt.utils import use_named_args\n",
    "\n",
    "# Carica i dati pre-elaborati\n",
    "train_features = np.load('Pre_Processed_Data/train_features.npy')\n",
    "train_labels = np.load('Pre_Processed_Data/train_labels.npy')\n",
    "val_features = np.load('Pre_Processed_Data/val_features.npy')\n",
    "val_labels = np.load('Pre_Processed_Data/val_labels.npy')\n",
    "test_features = np.load('Pre_Processed_Data/test_features.npy')\n",
    "test_labels = np.load('Pre_Processed_Data/test_labels.npy')\n",
    "\n",
    "# Carica la ponderazione delle classi dal file\n",
    "class_weights_dict = np.load('Pre_Processed_Data/class_weights.npy', allow_pickle=True).item()"
   ]
  },
  {
   "attachments": {},
   "cell_type": "markdown",
   "metadata": {},
   "source": [
    "# Crea un'istanza del modello SVM con kernel RBF"
   ]
  },
  {
   "cell_type": "code",
   "execution_count": 21,
   "metadata": {},
   "outputs": [],
   "source": [
    "# Crea un'istanza del modello SVM con kernel RBF\n",
    "svm = SVC(kernel='rbf')"
   ]
  },
  {
   "attachments": {},
   "cell_type": "markdown",
   "metadata": {},
   "source": [
    "# Specifica lo spazio di ricerca per gli hyperparameters"
   ]
  },
  {
   "cell_type": "code",
   "execution_count": 22,
   "metadata": {},
   "outputs": [],
   "source": [
    "# Specifica lo spazio di ricerca per gli hyperparameters\n",
    "search_space = [Real(0.1, 10, name='C'), Real(0.1, 10, name='gamma')]"
   ]
  },
  {
   "attachments": {},
   "cell_type": "markdown",
   "metadata": {},
   "source": [
    "# Definizione di una funzione obiettivo da minimizzare"
   ]
  },
  {
   "cell_type": "code",
   "execution_count": 23,
   "metadata": {},
   "outputs": [],
   "source": [
    "# Definisci una funzione obiettivo da minimizzare\n",
    "@use_named_args(search_space)\n",
    "def objective(C, gamma):\n",
    "    # Crea un'istanza del modello SVM con kernel RBF utilizzando gli hyperparameters correnti\n",
    "    svm = SVC(class_weight=class_weights_dict, kernel='rbf', C=C, gamma=gamma)\n",
    "\n",
    "    # Addestra il modello utilizzando il set di addestramento\n",
    "    svm.fit(train_features, train_labels)\n",
    "\n",
    "    # Valuta le prestazioni del modello sul set di validazione\n",
    "    y_val_pred = svm.predict(val_features)\n",
    "    val_accuracy = accuracy_score(val_labels, y_val_pred)\n",
    "\n",
    "    # Restituisci l'errore di validazione (1 - accuracy) come valore da minimizzare\n",
    "    return 1 - val_accuracy"
   ]
  },
  {
   "attachments": {},
   "cell_type": "markdown",
   "metadata": {},
   "source": [
    "# Esegue l'ottimizzazione bayesiana per trovare i migliori hyperparameters"
   ]
  },
  {
   "cell_type": "code",
   "execution_count": 24,
   "metadata": {},
   "outputs": [],
   "source": [
    "# Esegue l'ottimizzazione bayesiana per trovare i migliori hyperparameters\n",
    "result = gp_minimize(objective, search_space)"
   ]
  },
  {
   "attachments": {},
   "cell_type": "markdown",
   "metadata": {},
   "source": [
    "# Stampa i migliori hyperparameters trovati dall'ottimizzazione bayesiana"
   ]
  },
  {
   "cell_type": "code",
   "execution_count": 25,
   "metadata": {},
   "outputs": [
    {
     "name": "stdout",
     "output_type": "stream",
     "text": [
      "Migliori hyperparameters: {'C': 0.4343195446566477, 'gamma': 0.8415219643119538}\n"
     ]
    }
   ],
   "source": [
    "# Stampa i migliori hyperparameters trovati dall'ottimizzazione bayesiana\n",
    "best_params = {param.name: value for param, value in zip(search_space, result.x)}\n",
    "print(f'Migliori hyperparameters: {best_params}')"
   ]
  },
  {
   "attachments": {},
   "cell_type": "markdown",
   "metadata": {},
   "source": [
    "# Crea un'istanza del modello SVM con kernel RBF utilizzando i migliori hyperparameters trovati dall'ottimizzazione bayesiana"
   ]
  },
  {
   "cell_type": "code",
   "execution_count": 26,
   "metadata": {},
   "outputs": [],
   "source": [
    "# Crea un'istanza del modello SVM con kernel RBF utilizzando i migliori hyperparameters trovati dall'ottimizzazione bayesiana\n",
    "svm = SVC(kernel='rbf', C=best_params['C'], gamma=best_params['gamma'])"
   ]
  },
  {
   "attachments": {},
   "cell_type": "markdown",
   "metadata": {},
   "source": [
    "# Addestra il modello utilizzando solo il set di addestramento"
   ]
  },
  {
   "cell_type": "code",
   "execution_count": 27,
   "metadata": {},
   "outputs": [
    {
     "data": {
      "text/html": [
       "<style>#sk-container-id-2 {color: black;background-color: white;}#sk-container-id-2 pre{padding: 0;}#sk-container-id-2 div.sk-toggleable {background-color: white;}#sk-container-id-2 label.sk-toggleable__label {cursor: pointer;display: block;width: 100%;margin-bottom: 0;padding: 0.3em;box-sizing: border-box;text-align: center;}#sk-container-id-2 label.sk-toggleable__label-arrow:before {content: \"▸\";float: left;margin-right: 0.25em;color: #696969;}#sk-container-id-2 label.sk-toggleable__label-arrow:hover:before {color: black;}#sk-container-id-2 div.sk-estimator:hover label.sk-toggleable__label-arrow:before {color: black;}#sk-container-id-2 div.sk-toggleable__content {max-height: 0;max-width: 0;overflow: hidden;text-align: left;background-color: #f0f8ff;}#sk-container-id-2 div.sk-toggleable__content pre {margin: 0.2em;color: black;border-radius: 0.25em;background-color: #f0f8ff;}#sk-container-id-2 input.sk-toggleable__control:checked~div.sk-toggleable__content {max-height: 200px;max-width: 100%;overflow: auto;}#sk-container-id-2 input.sk-toggleable__control:checked~label.sk-toggleable__label-arrow:before {content: \"▾\";}#sk-container-id-2 div.sk-estimator input.sk-toggleable__control:checked~label.sk-toggleable__label {background-color: #d4ebff;}#sk-container-id-2 div.sk-label input.sk-toggleable__control:checked~label.sk-toggleable__label {background-color: #d4ebff;}#sk-container-id-2 input.sk-hidden--visually {border: 0;clip: rect(1px 1px 1px 1px);clip: rect(1px, 1px, 1px, 1px);height: 1px;margin: -1px;overflow: hidden;padding: 0;position: absolute;width: 1px;}#sk-container-id-2 div.sk-estimator {font-family: monospace;background-color: #f0f8ff;border: 1px dotted black;border-radius: 0.25em;box-sizing: border-box;margin-bottom: 0.5em;}#sk-container-id-2 div.sk-estimator:hover {background-color: #d4ebff;}#sk-container-id-2 div.sk-parallel-item::after {content: \"\";width: 100%;border-bottom: 1px solid gray;flex-grow: 1;}#sk-container-id-2 div.sk-label:hover label.sk-toggleable__label {background-color: #d4ebff;}#sk-container-id-2 div.sk-serial::before {content: \"\";position: absolute;border-left: 1px solid gray;box-sizing: border-box;top: 0;bottom: 0;left: 50%;z-index: 0;}#sk-container-id-2 div.sk-serial {display: flex;flex-direction: column;align-items: center;background-color: white;padding-right: 0.2em;padding-left: 0.2em;position: relative;}#sk-container-id-2 div.sk-item {position: relative;z-index: 1;}#sk-container-id-2 div.sk-parallel {display: flex;align-items: stretch;justify-content: center;background-color: white;position: relative;}#sk-container-id-2 div.sk-item::before, #sk-container-id-2 div.sk-parallel-item::before {content: \"\";position: absolute;border-left: 1px solid gray;box-sizing: border-box;top: 0;bottom: 0;left: 50%;z-index: -1;}#sk-container-id-2 div.sk-parallel-item {display: flex;flex-direction: column;z-index: 1;position: relative;background-color: white;}#sk-container-id-2 div.sk-parallel-item:first-child::after {align-self: flex-end;width: 50%;}#sk-container-id-2 div.sk-parallel-item:last-child::after {align-self: flex-start;width: 50%;}#sk-container-id-2 div.sk-parallel-item:only-child::after {width: 0;}#sk-container-id-2 div.sk-dashed-wrapped {border: 1px dashed gray;margin: 0 0.4em 0.5em 0.4em;box-sizing: border-box;padding-bottom: 0.4em;background-color: white;}#sk-container-id-2 div.sk-label label {font-family: monospace;font-weight: bold;display: inline-block;line-height: 1.2em;}#sk-container-id-2 div.sk-label-container {text-align: center;}#sk-container-id-2 div.sk-container {/* jupyter's `normalize.less` sets `[hidden] { display: none; }` but bootstrap.min.css set `[hidden] { display: none !important; }` so we also need the `!important` here to be able to override the default hidden behavior on the sphinx rendered scikit-learn.org. See: https://github.com/scikit-learn/scikit-learn/issues/21755 */display: inline-block !important;position: relative;}#sk-container-id-2 div.sk-text-repr-fallback {display: none;}</style><div id=\"sk-container-id-2\" class=\"sk-top-container\"><div class=\"sk-text-repr-fallback\"><pre>SVC(C=0.4343195446566477, gamma=0.8415219643119538)</pre><b>In a Jupyter environment, please rerun this cell to show the HTML representation or trust the notebook. <br />On GitHub, the HTML representation is unable to render, please try loading this page with nbviewer.org.</b></div><div class=\"sk-container\" hidden><div class=\"sk-item\"><div class=\"sk-estimator sk-toggleable\"><input class=\"sk-toggleable__control sk-hidden--visually\" id=\"sk-estimator-id-2\" type=\"checkbox\" checked><label for=\"sk-estimator-id-2\" class=\"sk-toggleable__label sk-toggleable__label-arrow\">SVC</label><div class=\"sk-toggleable__content\"><pre>SVC(C=0.4343195446566477, gamma=0.8415219643119538)</pre></div></div></div></div></div>"
      ],
      "text/plain": [
       "SVC(C=0.4343195446566477, gamma=0.8415219643119538)"
      ]
     },
     "execution_count": 27,
     "metadata": {},
     "output_type": "execute_result"
    }
   ],
   "source": [
    "# Addestra il modello utilizzando solo il set di addestramento\n",
    "svm.fit(train_features, train_labels)"
   ]
  },
  {
   "attachments": {},
   "cell_type": "markdown",
   "metadata": {},
   "source": [
    "# Utilizza il modello addestrato per fare le previsioni sul set di test"
   ]
  },
  {
   "cell_type": "code",
   "execution_count": 28,
   "metadata": {},
   "outputs": [
    {
     "name": "stdout",
     "output_type": "stream",
     "text": [
      "[0 0 1 1 0 0 1 0 0 0 0 0 0 0 0 1 0 1 0 0 0 0 0 1 0 1 0 0 1 0 0 1 0 1 0 1 0\n",
      " 0 0 0 0 0 0 0 1 0 0 0 0 1 1 0 0 0 1 1 1 0 0 0 1 0 1 0 0 0 0 0 0 0 1 0 0 0\n",
      " 0 0 0 0 1 0 1 0 0 0 0 0 1 0 1 0 0 0 0 0 0 0 0 0 1 0 0 0 1 1 0 1 1 0 1 1 0\n",
      " 1 1 0 0 0]\n"
     ]
    }
   ],
   "source": [
    "# Utilizza il modello addestrato per fare le previsioni sul set di test\n",
    "test_predictions = svm.predict(test_features)\n",
    "print(test_predictions)"
   ]
  },
  {
   "attachments": {},
   "cell_type": "markdown",
   "metadata": {},
   "source": [
    "# Valuta le prestazioni del modello sul set di test"
   ]
  },
  {
   "cell_type": "code",
   "execution_count": 29,
   "metadata": {},
   "outputs": [
    {
     "name": "stdout",
     "output_type": "stream",
     "text": [
      "Accuracy sul set di test: 0.78\n"
     ]
    }
   ],
   "source": [
    "# Valuta le prestazioni del modello sul set di test\n",
    "test_accuracy = accuracy_score(test_labels, test_predictions)\n",
    "print(f'Accuracy sul set di test: {test_accuracy:.2f}')"
   ]
  },
  {
   "attachments": {},
   "cell_type": "markdown",
   "metadata": {},
   "source": [
    "## Valutazione delle prestazioni sul set di test"
   ]
  },
  {
   "cell_type": "code",
   "execution_count": 30,
   "metadata": {},
   "outputs": [
    {
     "name": "stdout",
     "output_type": "stream",
     "text": [
      "Accuracy sul set di test: 0.78\n"
     ]
    }
   ],
   "source": [
    "# Valuta le prestazioni del modello sul set di test\n",
    "test_accuracy = accuracy_score(test_labels, test_predictions)\n",
    "print(f'Accuracy sul set di test: {test_accuracy:.2f}')"
   ]
  },
  {
   "cell_type": "code",
   "execution_count": 31,
   "metadata": {},
   "outputs": [
    {
     "data": {
      "image/png": "[encoded data removed]",
      "text/plain": [
       "<Figure size 600x400 with 2 Axes>"
      ]
     },
     "metadata": {},
     "output_type": "display_data"
    }
   ],
   "source": [
    "# Compute confusion matrix\n",
    "cm = confusion_matrix(test_labels, test_predictions)\n",
    "\n",
    "# Define class labels\n",
    "class_labels = ['Class 0', 'Class 1']\n",
    "\n",
    "# Create the heatmap\n",
    "plt.figure(figsize=(6, 4))\n",
    "sns.heatmap(cm, annot=True, fmt='d', cmap='Purples',\n",
    "            xticklabels=class_labels, yticklabels=class_labels)\n",
    "\n",
    "plt.title('Confusion Matrix')\n",
    "plt.xlabel('Predicted Label')\n",
    "plt.ylabel('True Label')\n",
    "plt.show()"
   ]
  },
  {
   "cell_type": "code",
   "execution_count": 32,
   "metadata": {},
   "outputs": [
    {
     "name": "stdout",
     "output_type": "stream",
     "text": [
      "Classification Report:\n",
      "               precision    recall  f1-score   support\n",
      "\n",
      "           0       0.78      0.89      0.83        73\n",
      "           1       0.76      0.58      0.66        43\n",
      "\n",
      "    accuracy                           0.78       116\n",
      "   macro avg       0.77      0.74      0.75       116\n",
      "weighted avg       0.77      0.78      0.77       116\n",
      "\n"
     ]
    }
   ],
   "source": [
    "report = classification_report(test_labels, test_predictions)\n",
    "print(\"Classification Report:\\n\", report)"
   ]
  },
  {
   "cell_type": "code",
   "execution_count": 33,
   "metadata": {},
   "outputs": [
    {
     "name": "stdout",
     "output_type": "stream",
     "text": [
      "AUC: 0.7359031538706595\n"
     ]
    },
    {
     "data": {
      "image/png": "[encoded data removed]",
      "text/plain": [
       "<Figure size 640x480 with 1 Axes>"
      ]
     },
     "metadata": {},
     "output_type": "display_data"
    }
   ],
   "source": [
    "# Compute ROC curve and AUC\n",
    "fpr, tpr, thresholds = roc_curve(test_labels, test_predictions)\n",
    "auc = roc_auc_score(test_labels, test_predictions)\n",
    "\n",
    "# Print AUC\n",
    "print(\"AUC:\", auc)\n",
    "\n",
    "# Plot ROC curve\n",
    "plt.plot(fpr, tpr, label='ROC curve (area = %0.2f)' % auc)\n",
    "plt.plot([0, 1], [0, 1], 'k--')\n",
    "plt.xlim([0.0, 1.0])\n",
    "plt.ylim([0.0, 1.05])\n",
    "plt.xlabel('False Positive Rate')\n",
    "plt.ylabel('True Positive Rate')\n",
    "plt.title('Receiver Operating Characteristic')\n",
    "plt.legend(loc=\"lower right\")\n",
    "plt.show()"
   ]
  },
  {
   "cell_type": "code",
   "execution_count": 34,
   "metadata": {},
   "outputs": [
    {
     "name": "stdout",
     "output_type": "stream",
     "text": [
      "Accuracy scores for each fold: [0.80555556 0.75       0.80373832 0.72897196 0.76635514]\n",
      "Mean accuracy: 0.7709241952232606\n"
     ]
    }
   ],
   "source": [
    "# Esecuzione della cross-validation\n",
    "scores = cross_val_score(svm, train_features, train_labels, cv=5)\n",
    "\n",
    "# Calcolo della media dei punteggi di accuratezza\n",
    "mean_accuracy = scores.mean()\n",
    "\n",
    "# Stampa dei punteggi di accuratezza ottenuti per ogni fold\n",
    "print(\"Accuracy scores for each fold:\", scores)\n",
    "\n",
    "# Stampa del punteggio medio di accuratezza\n",
    "print(\"Mean accuracy:\", mean_accuracy)"
   ]
  },
  {
   "attachments": {},
   "cell_type": "markdown",
   "metadata": {},
   "source": [
    "I risultati ottenuti mostrano diverse metriche per valutare le prestazioni del tuo modello SVM sul set di test.\n",
    "\n",
    "- L’accuracy sul set di test è 0.76, il che significa che il modello ha classificato correttamente il 76% dei campioni nel set di test.\n",
    "\n",
    "- La matrice di confusione mostra il numero di veri positivi (TP), falsi positivi (FP), veri negativi (TN) e falsi negativi (FN). In questo caso, il modello ha classificato correttamente 62 campioni come negativi (TN) e 26 campioni come positivi (TP). Tuttavia, ha anche classificato erroneamente 11 campioni come positivi (FP) e 17 campioni come negativi (FN).\n",
    "\n",
    "- Il classification report mostra diverse metriche per valutare le prestazioni del modello per ogni classe. La precisione per la classe 0 è 0.78, il che significa che il 78% delle previsioni positive per la classe 0 sono corrette. La precisione per la classe 1 è 0.70, il che significa che il 70% delle previsioni positive per la classe 1 sono corrette. Il recall per la classe 0 è 0.85, il che significa che l’85% dei campioni positivi per la classe 0 sono stati classificati correttamente. Il recall per la classe 1 è 0.60, il che significa che il 60% dei campioni positivi per la classe 1 sono stati classificati correttamente.\n",
    "\n",
    "- L’area sotto la curva ROC (AUC) è una misura delle prestazioni del modello che tiene conto della trade-off tra i veri positivi e i falsi positivi. Un valore di AUC pari a 1 indica un modello perfetto, mentre un valore di AUC pari a 0.5 indica un modello casuale. In questo caso, l’AUC è 0.73, il che indica che il modello ha prestazioni migliori rispetto a un modello casuale.\n",
    "\n",
    "Sostanzialmente, i risultati mostrano che il modello SVM ha prestazioni decenti sul set di test e ha prestazioni leggermente migliori rispetto al modello k-NN addestrato in precedenza."
   ]
  }
 ],
 "metadata": {
  "kernelspec": {
   "display_name": "Python 3",
   "language": "python",
   "name": "python3"
  },
  "language_info": {
   "codemirror_mode": {
    "name": "ipython",
    "version": 3
   },
   "file_extension": ".py",
   "mimetype": "text/x-python",
   "name": "python",
   "nbconvert_exporter": "python",
   "pygments_lexer": "ipython3",
   "version": "3.11.3"
  },
  "orig_nbformat": 4
 },
 "nbformat": 4,
 "nbformat_minor": 2
}
