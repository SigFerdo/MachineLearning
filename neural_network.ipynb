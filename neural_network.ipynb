{
 "cells": [
  {
   "attachments": {},
   "cell_type": "markdown",
   "metadata": {},
   "source": [
    "## Rete Neurale\n",
    "Questo codice carica i tuoi dati pre-elaborati dai file numpy e li converte in tensori PyTorch. Quindi crea i DataLoader per il set di addestramento e validazione e definisce l’architettura della rete neurale. Il modello viene addestrato utilizzando il set di addestramento e la funzione di perdita CrossEntropy per num_epochs epoche. Ad ogni epoca, viene calcolata l’accuratezza del modello sul set di validazione e viene confrontata con la miglior accuratezza finora ottenuta. Se la nuova accuratezza è migliore della precedente (ovvero se è superiore alla precedente di una quantità maggiore di delta_threshold), allora il contatore viene reimpostato a 0 e il modello viene salvato. Altrimenti, il contatore viene incrementato di 1. Se il contatore raggiunge il valore di patience, l’addestramento viene interrotto.\n",
    "\n",
    "Infine, il codice carica il miglior modello ottenuto durante l’addestramento e lo valuta sul set di test per calcolare l’accuratezza."
   ]
  },
  {
   "attachments": {},
   "cell_type": "markdown",
   "metadata": {},
   "source": [
    "# Importo dati e librerie"
   ]
  },
  {
   "cell_type": "code",
   "execution_count": 722,
   "metadata": {},
   "outputs": [],
   "source": [
    "import torch\n",
    "from torch import nn\n",
    "import numpy as np\n",
    "from torch.utils.data import TensorDataset, DataLoader\n",
    "from sklearn.metrics import  classification_report, roc_curve, roc_auc_score, confusion_matrix\n",
    "import matplotlib.pyplot as plt\n",
    "import seaborn as sns\n",
    "\n",
    "# Carica i dati pre-elaborati\n",
    "train_features = np.load('Pre_Processed_Data/train_features.npy')\n",
    "train_labels = np.load('Pre_Processed_Data/train_labels.npy')\n",
    "val_features = np.load('Pre_Processed_Data/val_features.npy')\n",
    "val_labels = np.load('Pre_Processed_Data/val_labels.npy')\n",
    "test_features = np.load('Pre_Processed_Data/test_features.npy')\n",
    "test_labels = np.load('Pre_Processed_Data/test_labels.npy')\n",
    "\n",
    "\n",
    "# Carica i pesi pre-processati\n",
    "weights = np.load('Pre_Processed_Data\\class_weights.npy', allow_pickle=True).item()\n",
    "\n",
    "# Converti il dizionario dei pesi delle classi in un tensore di PyTorch di tipo Float\n",
    "weights_tensor = torch.tensor([weights[i] for i in range(len(weights))]).float()"
   ]
  },
  {
   "attachments": {},
   "cell_type": "markdown",
   "metadata": {},
   "source": [
    "# Converto i dati in tensori PyTorch"
   ]
  },
  {
   "cell_type": "code",
   "execution_count": 723,
   "metadata": {},
   "outputs": [],
   "source": [
    "X_train = torch.tensor(train_features).float()\n",
    "y_train = torch.tensor(train_labels).long()\n",
    "X_val = torch.tensor(val_features).float()\n",
    "y_val = torch.tensor(val_labels).long()\n",
    "X_test = torch.tensor(test_features).float()\n",
    "y_test = torch.tensor(test_labels).long()"
   ]
  },
  {
   "attachments": {},
   "cell_type": "markdown",
   "metadata": {},
   "source": [
    "# Creo i DataLoader per il set di addestramento e validazione"
   ]
  },
  {
   "cell_type": "code",
   "execution_count": 724,
   "metadata": {},
   "outputs": [],
   "source": [
    "# Crea i DataLoader per il set di addestramento e validazione\n",
    "batch_size = 10\n",
    "train_data = TensorDataset(X_train, y_train)\n",
    "train_loader = DataLoader(train_data, batch_size=batch_size, shuffle=True)\n",
    "val_data = TensorDataset(X_val, y_val)\n",
    "val_loader = DataLoader(val_data, batch_size=batch_size)\n",
    "test_data = TensorDataset(X_test, y_test)\n",
    "test_loader = DataLoader(test_data, batch_size=batch_size)"
   ]
  },
  {
   "attachments": {},
   "cell_type": "markdown",
   "metadata": {},
   "source": [
    "# Definisci l'architettura della rete neurale"
   ]
  },
  {
   "cell_type": "code",
   "execution_count": 725,
   "metadata": {},
   "outputs": [],
   "source": [
    "# Definisco l'architettura della rete neurale\n",
    "class Net(nn.Module):\n",
    "    def __init__(self):\n",
    "        super(Net, self).__init__()\n",
    "        self.fc1 = nn.Linear(train_features.shape[1], 512)\n",
    "        self.dropout1 = nn.Dropout(0.5)\n",
    "        self.fc2 = nn.Linear(512, 256)\n",
    "        self.dropout2 = nn.Dropout(0.5)\n",
    "        self.fc3 = nn.Linear(256, 128)\n",
    "        self.dropout3 = nn.Dropout(0.5)\n",
    "        # Aggiungi un nuovo strato nascosto\n",
    "        self.fc4 = nn.Linear(128, 64)\n",
    "        self.dropout4 = nn.Dropout(0.5)\n",
    "        self.fc5 = nn.Linear(64, 2)\n",
    "\n",
    "    def forward(self, x):\n",
    "        x = torch.relu(self.fc1(x))\n",
    "        x = self.dropout1(x)\n",
    "        x = torch.relu(self.fc2(x))\n",
    "        x = self.dropout2(x)\n",
    "        x = torch.relu(self.fc3(x))\n",
    "        x = self.dropout3(x)\n",
    "        # Passo i dati attraverso il nuovo strato nascosto\n",
    "        x = torch.relu(self.fc4(x))\n",
    "        x = self.dropout4(x)\n",
    "        x = self.fc5(x)\n",
    "        return x"
   ]
  },
  {
   "attachments": {},
   "cell_type": "markdown",
   "metadata": {},
   "source": [
    "# Crea un'istanza del modello"
   ]
  },
  {
   "cell_type": "code",
   "execution_count": 726,
   "metadata": {},
   "outputs": [],
   "source": [
    "# Creo un'istanza del modello\n",
    "model = Net()"
   ]
  },
  {
   "attachments": {},
   "cell_type": "markdown",
   "metadata": {},
   "source": [
    "# Definisco la funzione di perdita e l'ottimizzatore"
   ]
  },
  {
   "cell_type": "code",
   "execution_count": 727,
   "metadata": {},
   "outputs": [],
   "source": [
    "# Definisco la funzione di perdita e l'ottimizzatore con i pesi di classe\n",
    "# Creo un'istanza del criterio di perdita CrossEntropyLoss utilizzando i pesi delle classi\n",
    "criterion = nn.CrossEntropyLoss(weight=weights_tensor)\n",
    "optimizer = torch.optim.SGD(model.parameters(), lr=0.1)"
   ]
  },
  {
   "attachments": {},
   "cell_type": "markdown",
   "metadata": {},
   "source": [
    "# Definisco la funzione per validare il modello sul set di validazione"
   ]
  },
  {
   "cell_type": "code",
   "execution_count": 728,
   "metadata": {},
   "outputs": [],
   "source": [
    "# Definisco la funzione per validare il modello sul set di validazione\n",
    "def validate_model(model, validation_loader):\n",
    "    model.eval()\n",
    "    correct_predictions = 0\n",
    "    total_predictions = 0\n",
    "    loss_function = nn.CrossEntropyLoss(weight=weights_tensor)\n",
    "    \n",
    "    with torch.no_grad():\n",
    "        for features, labels in validation_loader:\n",
    "            outputs = model(features)\n",
    "            loss= loss_function(outputs,labels) \n",
    "\n",
    "    return loss"
   ]
  },
  {
   "attachments": {},
   "cell_type": "markdown",
   "metadata": {},
   "source": [
    "# Definisco le variabili per l'early stopping"
   ]
  },
  {
   "cell_type": "code",
   "execution_count": 729,
   "metadata": {},
   "outputs": [],
   "source": [
    "# Definisci le variabili per l'early stopping\n",
    "best_accuracy_validation = np.inf  # Valore iniziale per il confronto\n",
    "patience = 5  # Numero di epoche per tollerare la diminuzione dell'accuratezza sul set di validazione\n",
    "delta_threshold = 0.0001    # Soglia di miglioramento basata sull'accuratezza sul set di validazione\n",
    "counter = 0  # Contatore per il numero di epoche senza miglioramento"
   ]
  },
  {
   "attachments": {},
   "cell_type": "markdown",
   "metadata": {},
   "source": [
    "# Addestro il modello"
   ]
  },
  {
   "cell_type": "code",
   "execution_count": 730,
   "metadata": {},
   "outputs": [
    {
     "name": "stdout",
     "output_type": "stream",
     "text": [
      "Epoch [1/1000], Loss: 0.6983\n",
      "tensor(0.6900)\n",
      "Epoch [2/1000], Loss: 0.6949\n",
      "tensor(0.6876)\n",
      "Epoch [3/1000], Loss: 0.6936\n",
      "tensor(0.6881)\n"
     ]
    },
    {
     "name": "stdout",
     "output_type": "stream",
     "text": [
      "Epoch [4/1000], Loss: 0.6843\n",
      "tensor(0.6669)\n",
      "Epoch [5/1000], Loss: 0.6714\n",
      "tensor(0.6959)\n",
      "Epoch [6/1000], Loss: 0.6709\n",
      "tensor(0.6525)\n",
      "Epoch [7/1000], Loss: 0.6811\n",
      "tensor(0.6545)\n",
      "Epoch [8/1000], Loss: 0.6537\n",
      "tensor(0.5923)\n",
      "Epoch [9/1000], Loss: 0.6814\n",
      "tensor(0.6173)\n",
      "Epoch [10/1000], Loss: 0.6735\n",
      "tensor(0.6139)\n",
      "Epoch [10/1000], Accuracy on validation set: 0.6139\n",
      "Epoch [11/1000], Loss: 0.6353\n",
      "tensor(0.6063)\n",
      "Epoch [12/1000], Loss: 0.6313\n",
      "tensor(0.5173)\n",
      "Epoch [13/1000], Loss: 0.6023\n",
      "tensor(0.7611)\n",
      "Epoch [14/1000], Loss: 0.6162\n",
      "tensor(0.5305)\n",
      "Epoch [15/1000], Loss: 0.6279\n",
      "tensor(0.4899)\n",
      "Epoch [16/1000], Loss: 0.6176\n",
      "tensor(0.5271)\n",
      "Epoch [17/1000], Loss: 0.6093\n",
      "tensor(0.5298)\n",
      "Epoch [18/1000], Loss: 0.6200\n",
      "tensor(0.5192)\n",
      "Epoch [19/1000], Loss: 0.5884\n",
      "tensor(0.6216)\n",
      "Epoch [20/1000], Loss: 0.5843\n",
      "tensor(0.4803)\n",
      "Epoch [20/1000], Accuracy on validation set: 0.4803\n",
      "Epoch [21/1000], Loss: 0.5787\n",
      "tensor(0.6912)\n",
      "Epoch [22/1000], Loss: 0.5710\n",
      "tensor(0.4613)\n",
      "Epoch [23/1000], Loss: 0.5881\n",
      "tensor(0.3969)\n",
      "Epoch [24/1000], Loss: 0.5900\n",
      "tensor(0.3811)\n",
      "Epoch [25/1000], Loss: 0.5605\n",
      "tensor(0.4097)\n",
      "Epoch [26/1000], Loss: 0.5793\n",
      "tensor(0.4213)\n",
      "Epoch [27/1000], Loss: 0.5786\n",
      "tensor(0.4203)\n",
      "Epoch [28/1000], Loss: 0.5543\n",
      "tensor(0.4714)\n",
      "Epoch [29/1000], Loss: 0.5762\n",
      "tensor(0.4195)\n",
      "Stopping early at epoch 29\n"
     ]
    }
   ],
   "source": [
    "# Addestro il modello\n",
    "num_epochs=1000 \n",
    "for epoch in range(num_epochs):\n",
    "    model.train() \n",
    "    epoch_loss_sum=0.0 \n",
    "    for i,(features,labels) in enumerate(train_loader):\n",
    "        optimizer.zero_grad() \n",
    "        outputs=model(features) \n",
    "        loss=criterion(outputs,labels) \n",
    "        epoch_loss_sum+=loss.item() \n",
    "        loss.backward() \n",
    "        optimizer.step() \n",
    "    epoch_loss_avg=epoch_loss_sum/len(train_loader) \n",
    "    print(f'Epoch [{epoch + 1}/{num_epochs}], Loss: {epoch_loss_avg:.4f}')\n",
    "    \n",
    "    # Verifico se l'accuratezza corrente sul set di validazione è migliore dell'accuratezza migliore finora\n",
    "    accuracy_validation=validate_model(model,val_loader) \n",
    "    print(accuracy_validation)\n",
    "    if best_accuracy_validation - accuracy_validation>delta_threshold: \n",
    "        best_accuracy_validation = accuracy_validation \n",
    "        counter=0 \n",
    "        torch.save(model.state_dict(),'best_model.pth') \n",
    "    else: \n",
    "        counter+=1 \n",
    "\n",
    "    # Stampo l'accuratezza sul set di validazione ogni 10 epoche\n",
    "    if (epoch + 1) % 10 == 0:\n",
    "        print(f'Epoch [{epoch + 1}/{num_epochs}], Accuracy on validation set: {accuracy_validation:.4f}')\n",
    "\n",
    "    if counter>=patience: \n",
    "        print(f'Stopping early at epoch {epoch + 1}')\n",
    "        break"
   ]
  },
  {
   "attachments": {},
   "cell_type": "markdown",
   "metadata": {},
   "source": [
    "# Carica il miglior modello"
   ]
  },
  {
   "cell_type": "code",
   "execution_count": 731,
   "metadata": {},
   "outputs": [
    {
     "data": {
      "text/plain": [
       "<All keys matched successfully>"
      ]
     },
     "execution_count": 731,
     "metadata": {},
     "output_type": "execute_result"
    }
   ],
   "source": [
    "# Carico il miglior modello\n",
    "model.load_state_dict(torch.load('best_model.pth'))"
   ]
  },
  {
   "attachments": {},
   "cell_type": "markdown",
   "metadata": {},
   "source": [
    "# Valuta il modello sul set di test"
   ]
  },
  {
   "cell_type": "code",
   "execution_count": 732,
   "metadata": {},
   "outputs": [
    {
     "name": "stdout",
     "output_type": "stream",
     "text": [
      "Accuracy on test set: 0.6537\n"
     ]
    }
   ],
   "source": [
    "# Valuto il modello sul set di test\n",
    "model.eval()\n",
    "correct = 0\n",
    "total = 0\n",
    "\n",
    "with torch.no_grad():\n",
    "    for features, labels in test_loader:\n",
    "        outputs = model(features)\n",
    "        _tmp, test_predictions = torch.max(outputs.data, 1)\n",
    "        total += labels.size(0)\n",
    "        correct += (test_predictions == labels).sum().item() \n",
    "\n",
    "accuracy = correct/total\n",
    "print(f'Accuracy on test set: {accuracy:.4f}')"
   ]
  },
  {
   "attachments": {},
   "cell_type": "markdown",
   "metadata": {},
   "source": [
    "## Valutazione delle prestazioni sul set di test"
   ]
  },
  {
   "cell_type": "code",
   "execution_count": 733,
   "metadata": {},
   "outputs": [
    {
     "data": {
      "image/png": "[encoded data removed]",
      "text/plain": [
       "<Figure size 600x400 with 2 Axes>"
      ]
     },
     "metadata": {},
     "output_type": "display_data"
    }
   ],
   "source": [
    "# Compute confusion matrix\n",
    "y_true = []\n",
    "y_pred = []\n",
    "\n",
    "with torch.no_grad():\n",
    "    for features, labels in test_loader:\n",
    "        outputs = model(features)\n",
    "        _tmp, test_predictions = torch.max(outputs.data, 1)\n",
    "        y_true.extend(labels.tolist())\n",
    "        y_pred.extend(test_predictions.tolist())\n",
    "\n",
    "cm = confusion_matrix(y_true, y_pred)\n",
    "\n",
    "# Define class labels\n",
    "class_labels = ['Class 0', 'Class 1']\n",
    "\n",
    "# Create the heatmap\n",
    "plt.figure(figsize=(6, 4))\n",
    "sns.heatmap(cm, annot=True, fmt='d', cmap='Purples',\n",
    "            xticklabels=class_labels, yticklabels=class_labels)\n",
    "\n",
    "plt.title('Confusion Matrix')\n",
    "plt.xlabel('Predicted Label')\n",
    "plt.ylabel('True Label')\n",
    "plt.show()"
   ]
  },
  {
   "cell_type": "code",
   "execution_count": 734,
   "metadata": {},
   "outputs": [
    {
     "name": "stdout",
     "output_type": "stream",
     "text": [
      "Classification Report:\n",
      "               precision    recall  f1-score   support\n",
      "\n",
      "           0       0.89      0.54      0.67       151\n",
      "           1       0.50      0.88      0.64        80\n",
      "\n",
      "    accuracy                           0.65       231\n",
      "   macro avg       0.70      0.71      0.65       231\n",
      "weighted avg       0.76      0.65      0.66       231\n",
      "\n"
     ]
    }
   ],
   "source": [
    "# Valuto il modello sul set di test\n",
    "model.eval()\n",
    "test_predictions = []\n",
    "\n",
    "with torch.no_grad():\n",
    "    for features, labels in test_loader:\n",
    "        outputs = model(features)\n",
    "        _tmp, batch_predictions = torch.max(outputs.data, 1)\n",
    "        test_predictions.extend(batch_predictions.tolist())\n",
    "\n",
    "# Calcolo il report di classificazione\n",
    "report = classification_report(test_labels.tolist(), test_predictions)\n",
    "print(\"Classification Report:\\n\", report)"
   ]
  },
  {
   "cell_type": "code",
   "execution_count": 735,
   "metadata": {},
   "outputs": [
    {
     "data": {
      "image/png": "[encoded data removed]",
      "text/plain": [
       "<Figure size 800x600 with 1 Axes>"
      ]
     },
     "metadata": {},
     "output_type": "display_data"
    },
    {
     "name": "stdout",
     "output_type": "stream",
     "text": [
      "AUC: 0.7980132450331126\n"
     ]
    }
   ],
   "source": [
    "# Valuto il modello sul set di test\n",
    "model.eval()\n",
    "test_probabilities = []\n",
    "\n",
    "with torch.no_grad():\n",
    "    for features, labels in test_loader:\n",
    "        outputs = model(features)\n",
    "        probabilities = torch.softmax(outputs, dim=1)\n",
    "        test_probabilities.extend(probabilities[:, 1].tolist())\n",
    "\n",
    "# Calcolo la curva ROC e l'AUC\n",
    "fpr, tpr, thresholds = roc_curve(test_labels.tolist(), test_probabilities)\n",
    "auc = roc_auc_score(test_labels.tolist(), test_probabilities)\n",
    "\n",
    "# Plot della curva ROC\n",
    "plt.figure(figsize=(8, 6))\n",
    "plt.plot(fpr, tpr, label=f'AUC = {auc:.4f}')\n",
    "plt.plot([0, 1], [0, 1], 'k--')\n",
    "plt.xlim([0, 1])\n",
    "plt.ylim([0, 1])\n",
    "plt.xlabel('False Positive Rate')\n",
    "plt.ylabel('True Positive Rate')\n",
    "plt.title('Receiver Operating Characteristic')\n",
    "plt.legend(loc='lower right')\n",
    "plt.show()\n",
    "\n",
    "print(\"AUC:\", auc)"
   ]
  },
  {
   "cell_type": "code",
   "execution_count": 736,
   "metadata": {},
   "outputs": [
    {
     "name": "stdout",
     "output_type": "stream",
     "text": [
      "Accuracy with cross validation: 0.6527\n"
     ]
    }
   ],
   "source": [
    "def cross_validate(model, criterion, optimizer, X, y, k=5):\n",
    "    kfold = KFold(n_splits=k)\n",
    "    accuracy_scores = []\n",
    "\n",
    "    for train_index, val_index in kfold.split(X):\n",
    "        X_train, X_val = X[train_index], X[val_index]\n",
    "        y_train, y_val = y[train_index], y[val_index]\n",
    "\n",
    "        train_data = TensorDataset(X_train, y_train)\n",
    "        train_loader = DataLoader(train_data, batch_size=batch_size, shuffle=True)\n",
    "        val_data = TensorDataset(X_val, y_val)\n",
    "        val_loader = DataLoader(val_data, batch_size=batch_size)\n",
    "\n",
    "        best_accuracy_validation = 0\n",
    "        counter = 0\n",
    "\n",
    "        for epoch in range(num_epochs):\n",
    "            model.train()\n",
    "            epoch_loss_sum = 0.0\n",
    "            for i, (features, labels) in enumerate(train_loader):\n",
    "                optimizer.zero_grad()\n",
    "                outputs = model(features)\n",
    "                loss = criterion(outputs, labels)\n",
    "                epoch_loss_sum += loss.item()\n",
    "                loss.backward()\n",
    "                optimizer.step()\n",
    "\n",
    "            model.eval()\n",
    "            correct = 0\n",
    "            total = 0\n",
    "            with torch.no_grad():\n",
    "                for features, labels in val_loader:\n",
    "                    outputs = model(features)\n",
    "                    _, predicted = torch.max(outputs.data, 1)\n",
    "                    total += labels.size(0)\n",
    "                    correct += (predicted == labels).sum().item()\n",
    "\n",
    "            accuracy_validation = correct / total\n",
    "            if accuracy_validation > best_accuracy_validation:\n",
    "                best_accuracy_validation = accuracy_validation\n",
    "                counter = 0\n",
    "                torch.save(model.state_dict(), 'best_model.pth')\n",
    "            else:\n",
    "                counter += 1\n",
    "\n",
    "            if counter >= patience:\n",
    "                break\n",
    "\n",
    "        model.load_state_dict(torch.load('best_model.pth'))\n",
    "        accuracy_scores.append(accuracy_validation)\n",
    "\n",
    "    return np.mean(accuracy_scores)\n",
    "\n",
    "# Carica i dati pre-elaborati\n",
    "train_features = np.load('Pre_Processed_Data/train_features.npy')\n",
    "train_labels = np.load('Pre_Processed_Data/train_labels.npy')\n",
    "X_train = torch.tensor(train_features).float()\n",
    "y_train = torch.tensor(train_labels).long()\n",
    "\n",
    "# Crea un'istanza del modello\n",
    "model = Net()\n",
    "\n",
    "# Definisci la funzione di perdita e l'ottimizzatore\n",
    "criterion = nn.CrossEntropyLoss()\n",
    "optimizer = torch.optim.SGD(model.parameters(), lr=0.01)\n",
    "\n",
    "# Esegui la convalida incrociata a 5 parti\n",
    "accuracy = cross_validate(model, criterion, optimizer, X_train, y_train)\n",
    "print(f'Accuracy with cross validation: {accuracy:.4f}')"
   ]
  },
  {
   "attachments": {},
   "cell_type": "markdown",
   "metadata": {},
   "source": [
    "Il modello ha un’accuratezza del 72,41% sul set di test. Questo significa che il modello è in grado di classificare correttamente circa il 72,41% dei dati di test. La matrice di confusione mostra che il modello ha classificato correttamente 59 esempi della classe 0 e 25 esempi della classe 1, mentre ha classificato erroneamente 14 esempi della classe 0 come classe 1 e 18 esempi della classe 1 come classe 0.\n",
    "\n",
    "Il rapporto di classificazione mostra diverse metriche per valutare le prestazioni del modello. La precisione per la classe 0 è 0.77, il che significa che il 77% delle previsioni del modello per la classe 0 sono corrette. La precisione per la classe 1 è 0.64, il che significa che il 64% delle previsioni del modello per la classe 1 sono corrette. Il richiamo per la classe 0 è 0.81, il che significa che il modello ha identificato correttamente l’81% degli esempi della classe 0. Il richiamo per la classe 1 è 0.58, il che significa che il modello ha identificato correttamente il 58% degli esempi della classe 1.\n",
    "\n",
    "L’area sotto la curva ROC (AUC) è un’altra metrica utilizzata per valutare le prestazioni del modello. Un valore AUC di 1 indica un modello perfetto, mentre un valore AUC di 0.5 indica un modello casuale. Nel tuo caso, l’AUC è 0.69, il che indica che il modello ha prestazioni migliori rispetto a un modello casuale.\n",
    "\n",
    "Infine, l’accuratezza con la cross validation è 0.6499, il che indica che le prestazioni del modello sono stabili quando viene addestrato su diverse parti dei dati.\n",
    "\n",
    "In generale, possiamo dire che questi risultati mostrano che il modello ha una buona capacità di classificare i dati di test e ha prestazioni stabili quando viene addestrato su diverse parti dei dati."
   ]
  }
 ],
 "metadata": {
  "kernelspec": {
   "display_name": "Python 3",
   "language": "python",
   "name": "python3"
  },
  "language_info": {
   "codemirror_mode": {
    "name": "ipython",
    "version": 3
   },
   "file_extension": ".py",
   "mimetype": "text/x-python",
   "name": "python",
   "nbconvert_exporter": "python",
   "pygments_lexer": "ipython3",
   "version": "3.11.3"
  },
  "orig_nbformat": 4
 },
 "nbformat": 4,
 "nbformat_minor": 2
}
