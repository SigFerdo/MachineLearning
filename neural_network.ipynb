{
 "cells": [
  {
   "attachments": {},
   "cell_type": "markdown",
   "metadata": {},
   "source": [
    "## Rete Neurale\n",
    "Questo codice carica i tuoi dati pre-elaborati dai file numpy e li converte in tensori PyTorch. Quindi crea i DataLoader per il set di addestramento e validazione e definisce l’architettura della rete neurale. Il modello viene addestrato utilizzando il set di addestramento e la funzione di perdita CrossEntropy per num_epochs epoche. Ad ogni epoca, viene calcolata l’accuratezza del modello sul set di validazione e viene confrontata con la miglior accuratezza finora ottenuta. Se la nuova accuratezza è migliore della precedente (ovvero se è superiore alla precedente di una quantità maggiore di delta_threshold), allora il contatore viene reimpostato a 0 e il modello viene salvato. Altrimenti, il contatore viene incrementato di 1. Se il contatore raggiunge il valore di patience, l’addestramento viene interrotto.\n",
    "\n",
    "Infine, il codice carica il miglior modello ottenuto durante l’addestramento e lo valuta sul set di test per calcolare l’accuratezza."
   ]
  },
  {
   "attachments": {},
   "cell_type": "markdown",
   "metadata": {},
   "source": [
    "# Importo dati e librerie"
   ]
  },
  {
   "cell_type": "code",
   "execution_count": 1349,
   "metadata": {},
   "outputs": [],
   "source": [
    "import torch\n",
    "from torch import nn\n",
    "import numpy as np\n",
    "from torch.utils.data import TensorDataset, DataLoader\n",
    "\n",
    "# Carica i dati pre-elaborati\n",
    "train_features = np.load('Pre_Processed_Data/train_features.npy')\n",
    "train_labels = np.load('Pre_Processed_Data/train_labels.npy')\n",
    "val_features = np.load('Pre_Processed_Data/val_features.npy')\n",
    "val_labels = np.load('Pre_Processed_Data/val_labels.npy')\n",
    "test_features = np.load('Pre_Processed_Data/test_features.npy')\n",
    "test_labels = np.load('Pre_Processed_Data/test_labels.npy')\n",
    "from sklearn.model_selection import cross_val_score\n",
    "from sklearn.metrics import accuracy_score, classification_report, roc_curve, roc_auc_score\n",
    "import matplotlib.pyplot as plt\n",
    "import seaborn as sns\n",
    "from sklearn.metrics import accuracy_score, classification_report, confusion_matrix"
   ]
  },
  {
   "attachments": {},
   "cell_type": "markdown",
   "metadata": {},
   "source": [
    "# Converto i dati in tensori PyTorch"
   ]
  },
  {
   "cell_type": "code",
   "execution_count": 1350,
   "metadata": {},
   "outputs": [],
   "source": [
    "X_train = torch.tensor(train_features).float()\n",
    "y_train = torch.tensor(train_labels).long()\n",
    "X_val = torch.tensor(val_features).float()\n",
    "y_val = torch.tensor(val_labels).long()\n",
    "X_test = torch.tensor(test_features).float()\n",
    "y_test = torch.tensor(test_labels).long()"
   ]
  },
  {
   "attachments": {},
   "cell_type": "markdown",
   "metadata": {},
   "source": [
    "# Creo i DataLoader per il set di addestramento e validazione"
   ]
  },
  {
   "cell_type": "code",
   "execution_count": 1351,
   "metadata": {},
   "outputs": [],
   "source": [
    "# Crea i DataLoader per il set di addestramento e validazione\n",
    "batch_size = 30\n",
    "train_data = TensorDataset(X_train, y_train)\n",
    "train_loader = DataLoader(train_data, batch_size=batch_size, shuffle=True)\n",
    "val_data = TensorDataset(X_val, y_val)\n",
    "val_loader = DataLoader(val_data, batch_size=batch_size)"
   ]
  },
  {
   "attachments": {},
   "cell_type": "markdown",
   "metadata": {},
   "source": [
    "# Definisci l'architettura della rete neurale"
   ]
  },
  {
   "cell_type": "code",
   "execution_count": 1352,
   "metadata": {},
   "outputs": [],
   "source": [
    "# Definisci l'architettura della rete neurale\n",
    "class Net(nn.Module):\n",
    "    def __init__(self):\n",
    "        super(Net, self).__init__()\n",
    "        self.fc1 = nn.Linear(train_features.shape[1], 512)\n",
    "        self.dropout1 = nn.Dropout(0.5)\n",
    "        self.fc2 = nn.Linear(512, 256)\n",
    "        self.dropout2 = nn.Dropout(0.5)\n",
    "        self.fc3 = nn.Linear(256, 128)\n",
    "        self.dropout3 = nn.Dropout(0.5)\n",
    "        # Aggiungi un nuovo strato nascosto\n",
    "        self.fc4 = nn.Linear(128, 64)\n",
    "        self.dropout4 = nn.Dropout(0.5)\n",
    "        self.fc5 = nn.Linear(64, 2)\n",
    "\n",
    "    def forward(self, x):\n",
    "        x = torch.relu(self.fc1(x))\n",
    "        x = self.dropout1(x)\n",
    "        x = torch.relu(self.fc2(x))\n",
    "        x = self.dropout2(x)\n",
    "        x = torch.relu(self.fc3(x))\n",
    "        x = self.dropout3(x)\n",
    "        # Passa i dati attraverso il nuovo strato nascosto\n",
    "        x = torch.relu(self.fc4(x))\n",
    "        x = self.dropout4(x)\n",
    "        x = self.fc5(x)\n",
    "        return x"
   ]
  },
  {
   "attachments": {},
   "cell_type": "markdown",
   "metadata": {},
   "source": [
    "# Crea un'istanza del modello"
   ]
  },
  {
   "cell_type": "code",
   "execution_count": 1353,
   "metadata": {},
   "outputs": [],
   "source": [
    "# Crea un'istanza del modello\n",
    "model = Net()"
   ]
  },
  {
   "attachments": {},
   "cell_type": "markdown",
   "metadata": {},
   "source": [
    "# Controlliamo se i dati sono bilanciati"
   ]
  },
  {
   "cell_type": "code",
   "execution_count": 1354,
   "metadata": {},
   "outputs": [
    {
     "name": "stdout",
     "output_type": "stream",
     "text": [
      "{0: 349, 1: 188}\n"
     ]
    }
   ],
   "source": [
    "# Carica le etichette del set di addestramento\n",
    "train_labels = np.load('Pre_Processed_Data/train_labels.npy')\n",
    "\n",
    "# Calcola la distribuzione delle etichette\n",
    "unique_labels, counts = np.unique(train_labels, return_counts=True)\n",
    "label_distribution = dict(zip(unique_labels, counts))\n",
    "\n",
    "print(label_distribution)"
   ]
  },
  {
   "attachments": {},
   "cell_type": "markdown",
   "metadata": {},
   "source": [
    "# Calcola i pesi per ciascuna classe\n",
    "Utilizzare i pesi di classe può aiutare a bilanciare l’effetto dello sbilanciamento dei dati durante l’addestramento del modello e può migliorare le prestazioni del modello sui dati sbilanciati."
   ]
  },
  {
   "cell_type": "code",
   "execution_count": 1355,
   "metadata": {},
   "outputs": [],
   "source": [
    "# Calcola i pesi per ciascuna classe\n",
    "class_sample_count = np.array([len(np.where(train_labels == t)[0]) for t in np.unique(train_labels)])\n",
    "weight = 1. / class_sample_count\n",
    "weight = torch.from_numpy(weight)\n",
    "weight = weight.float()"
   ]
  },
  {
   "attachments": {},
   "cell_type": "markdown",
   "metadata": {},
   "source": [
    " Purtroppo i dati sono sbilanciati, allora abbiamo calcolato i pesi per ciascuna classe utilizzando il reciproco del numero di esempi per ciascuna classe e abbiamo creato un tensore di pesi per ciascuna classe. Quindi, abbiamo passato il tensore di pesi alla funzione di perdita nn.CrossEntropyLoss come parametro weight. In questo modo, gli esempi della classe minoritaria avranno un peso maggiore durante l’addestramento."
   ]
  },
  {
   "attachments": {},
   "cell_type": "markdown",
   "metadata": {},
   "source": [
    "# Definisci la funzione di perdita e l'ottimizzatore"
   ]
  },
  {
   "cell_type": "code",
   "execution_count": 1356,
   "metadata": {},
   "outputs": [],
   "source": [
    "# Definisci la funzione di perdita e l'ottimizzatore con i pesi di classe\n",
    "criterion = nn.CrossEntropyLoss(weight=weight)\n",
    "optimizer = torch.optim.SGD(model.parameters(), lr=0.1)"
   ]
  },
  {
   "attachments": {},
   "cell_type": "markdown",
   "metadata": {},
   "source": [
    "# Definisci la funzione per validare il modello sul set di validazione"
   ]
  },
  {
   "cell_type": "code",
   "execution_count": 1357,
   "metadata": {},
   "outputs": [],
   "source": [
    "# Definisci la funzione per validare il modello sul set di validazione\n",
    "def validate_model(model, validation_loader):\n",
    "    model.eval()\n",
    "    correct_predictions = 0\n",
    "    total_predictions = 0\n",
    "\n",
    "    with torch.no_grad():\n",
    "        for features, labels in validation_loader:\n",
    "            outputs = model(features)\n",
    "            _, predicted = torch.max(outputs.data, 1)\n",
    "            correct_predictions += (predicted == labels).sum().item()\n",
    "            total_predictions += labels.size(0)\n",
    "\n",
    "    accuracy_validation = correct_predictions / total_predictions\n",
    "    return accuracy_validation"
   ]
  },
  {
   "attachments": {},
   "cell_type": "markdown",
   "metadata": {},
   "source": [
    "# Definisci le variabili per l'early stopping"
   ]
  },
  {
   "cell_type": "code",
   "execution_count": 1358,
   "metadata": {},
   "outputs": [],
   "source": [
    "# Definisci le variabili per l'early stopping\n",
    "best_accuracy_validation = 0  # Valore iniziale per il confronto\n",
    "patience = 10  # Numero di epoche per tollerare la diminuzione dell'accuratezza sul set di validazione\n",
    "delta_threshold = 0.0001    # Soglia di miglioramento basata sull'accuratezza sul set di validazione\n",
    "counter = 0  # Contatore per il numero di epoche senza miglioramento"
   ]
  },
  {
   "attachments": {},
   "cell_type": "markdown",
   "metadata": {},
   "source": [
    "# Addestra il modello"
   ]
  },
  {
   "cell_type": "code",
   "execution_count": 1359,
   "metadata": {},
   "outputs": [
    {
     "name": "stdout",
     "output_type": "stream",
     "text": [
      "Epoch [1/1000], Loss: 0.6937\n",
      "Epoch [2/1000], Loss: 0.6941\n",
      "Epoch [3/1000], Loss: 0.6942\n"
     ]
    },
    {
     "name": "stdout",
     "output_type": "stream",
     "text": [
      "Epoch [4/1000], Loss: 0.6929\n",
      "Epoch [5/1000], Loss: 0.6935\n",
      "Epoch [6/1000], Loss: 0.6899\n",
      "Epoch [7/1000], Loss: 0.6879\n",
      "Epoch [8/1000], Loss: 0.6914\n",
      "Epoch [9/1000], Loss: 0.6859\n",
      "Epoch [10/1000], Loss: 0.6853\n",
      "Epoch [10/1000], Accuracy on validation set: 0.7130\n",
      "Epoch [11/1000], Loss: 0.6824\n",
      "Epoch [12/1000], Loss: 0.6833\n",
      "Epoch [13/1000], Loss: 0.6789\n",
      "Epoch [14/1000], Loss: 0.6709\n",
      "Epoch [15/1000], Loss: 0.6496\n",
      "Stopping early at epoch 15\n"
     ]
    }
   ],
   "source": [
    "# Addestra il modello\n",
    "num_epochs=1000 \n",
    "for epoch in range(num_epochs):\n",
    "    model.train() \n",
    "    epoch_loss_sum=0.0 \n",
    "    for i,(features,labels) in enumerate(train_loader):\n",
    "        optimizer.zero_grad() \n",
    "        outputs=model(features) \n",
    "        loss=criterion(outputs,labels) \n",
    "        epoch_loss_sum+=loss.item() \n",
    "        loss.backward() \n",
    "        optimizer.step() \n",
    "    epoch_loss_avg=epoch_loss_sum/len(train_loader) \n",
    "    print(f'Epoch [{epoch + 1}/{num_epochs}], Loss: {epoch_loss_avg:.4f}')\n",
    "    \n",
    "    # Verifica se l'accuratezza corrente sul set di validazione è migliore dell'accuratezza migliore finora\n",
    "    accuracy_validation=validate_model(model,val_loader) \n",
    "    if accuracy_validation-best_accuracy_validation>delta_threshold: \n",
    "        best_accuracy_validation=accuracy_validation \n",
    "        counter=0 \n",
    "        torch.save(model.state_dict(),'best_model.pth') \n",
    "    else: \n",
    "        counter+=1 \n",
    "\n",
    "    # Stampa l'accuratezza sul set di validazione ogni 10 epoche\n",
    "    if (epoch + 1) % 10 == 0:\n",
    "        print(f'Epoch [{epoch + 1}/{num_epochs}], Accuracy on validation set: {accuracy_validation:.4f}')\n",
    "\n",
    "    if counter>=patience: \n",
    "        print(f'Stopping early at epoch {epoch + 1}')\n",
    "        break"
   ]
  },
  {
   "attachments": {},
   "cell_type": "markdown",
   "metadata": {},
   "source": [
    "# Carica il miglior modello"
   ]
  },
  {
   "cell_type": "code",
   "execution_count": 1360,
   "metadata": {},
   "outputs": [
    {
     "data": {
      "text/plain": [
       "<All keys matched successfully>"
      ]
     },
     "execution_count": 1360,
     "metadata": {},
     "output_type": "execute_result"
    }
   ],
   "source": [
    "# Carica il miglior modello\n",
    "model.load_state_dict(torch.load('best_model.pth'))"
   ]
  },
  {
   "attachments": {},
   "cell_type": "markdown",
   "metadata": {},
   "source": [
    "# Valuta il modello sul set di test"
   ]
  },
  {
   "cell_type": "code",
   "execution_count": 1361,
   "metadata": {},
   "outputs": [
    {
     "name": "stdout",
     "output_type": "stream",
     "text": [
      "Accuracy on test set: 0.7241\n"
     ]
    }
   ],
   "source": [
    "# Valuta il modello sul set di test\n",
    "with torch.no_grad():\n",
    "    model.eval()\n",
    "    outputs = model(X_test)\n",
    "    _tmp, test_predictions = torch.max(outputs.data, 1)\n",
    "    accuracy = (test_predictions == y_test).float().mean()\n",
    "    print(f'Accuracy on test set: {accuracy:.4f}')"
   ]
  },
  {
   "attachments": {},
   "cell_type": "markdown",
   "metadata": {},
   "source": [
    "## Valutazione delle prestazioni sul set di test"
   ]
  },
  {
   "cell_type": "code",
   "execution_count": 1362,
   "metadata": {},
   "outputs": [
    {
     "data": {
      "image/png": "[encoded data removed]",
      "text/plain": [
       "<Figure size 600x400 with 2 Axes>"
      ]
     },
     "metadata": {},
     "output_type": "display_data"
    }
   ],
   "source": [
    "# Compute confusion matrix\n",
    "cm = confusion_matrix(test_labels, test_predictions)\n",
    "\n",
    "# Define class labels\n",
    "class_labels = ['Class 0', 'Class 1']\n",
    "\n",
    "# Create the heatmap\n",
    "plt.figure(figsize=(6, 4))\n",
    "sns.heatmap(cm, annot=True, fmt='d', cmap='Purples',\n",
    "            xticklabels=class_labels, yticklabels=class_labels)\n",
    "\n",
    "plt.title('Confusion Matrix')\n",
    "plt.xlabel('Predicted Label')\n",
    "plt.ylabel('True Label')\n",
    "plt.show()"
   ]
  },
  {
   "cell_type": "code",
   "execution_count": 1363,
   "metadata": {},
   "outputs": [
    {
     "name": "stdout",
     "output_type": "stream",
     "text": [
      "Classification Report:\n",
      "               precision    recall  f1-score   support\n",
      "\n",
      "           0       0.77      0.81      0.79        73\n",
      "           1       0.64      0.58      0.61        43\n",
      "\n",
      "    accuracy                           0.72       116\n",
      "   macro avg       0.70      0.69      0.70       116\n",
      "weighted avg       0.72      0.72      0.72       116\n",
      "\n"
     ]
    }
   ],
   "source": [
    "report = classification_report(test_labels, test_predictions)\n",
    "print(\"Classification Report:\\n\", report)"
   ]
  },
  {
   "cell_type": "code",
   "execution_count": 1364,
   "metadata": {},
   "outputs": [
    {
     "name": "stdout",
     "output_type": "stream",
     "text": [
      "AUC: 0.6948072634597006\n"
     ]
    },
    {
     "data": {
      "image/png": "[encoded data removed]",
      "text/plain": [
       "<Figure size 640x480 with 1 Axes>"
      ]
     },
     "metadata": {},
     "output_type": "display_data"
    }
   ],
   "source": [
    "# Compute ROC curve and AUC\n",
    "fpr, tpr, thresholds = roc_curve(test_labels, test_predictions)\n",
    "auc = roc_auc_score(test_labels, test_predictions)\n",
    "\n",
    "# Print AUC\n",
    "print(\"AUC:\", auc)\n",
    "\n",
    "# Plot ROC curve\n",
    "plt.plot(fpr, tpr, label='ROC curve (area = %0.2f)' % auc)\n",
    "plt.plot([0, 1], [0, 1], 'k--')\n",
    "plt.xlim([0.0, 1.0])\n",
    "plt.ylim([0.0, 1.05])\n",
    "plt.xlabel('False Positive Rate')\n",
    "plt.ylabel('True Positive Rate')\n",
    "plt.title('Receiver Operating Characteristic')\n",
    "plt.legend(loc=\"lower right\")\n",
    "plt.show()"
   ]
  },
  {
   "cell_type": "code",
   "execution_count": 1365,
   "metadata": {},
   "outputs": [
    {
     "name": "stdout",
     "output_type": "stream",
     "text": [
      "Accuracy with cross validation: 0.6499\n"
     ]
    }
   ],
   "source": [
    "from sklearn.model_selection import KFold\n",
    "\n",
    "def cross_validate(model, criterion, optimizer, X, y, k=5):\n",
    "    kfold = KFold(n_splits=k)\n",
    "    accuracy_scores = []\n",
    "\n",
    "    for train_index, val_index in kfold.split(X):\n",
    "        X_train, X_val = X[train_index], X[val_index]\n",
    "        y_train, y_val = y[train_index], y[val_index]\n",
    "\n",
    "        train_data = TensorDataset(X_train, y_train)\n",
    "        train_loader = DataLoader(train_data, batch_size=batch_size, shuffle=True)\n",
    "        val_data = TensorDataset(X_val, y_val)\n",
    "        val_loader = DataLoader(val_data, batch_size=batch_size)\n",
    "\n",
    "        # Inizializza le variabili per l'early stopping\n",
    "        best_accuracy_validation = 0\n",
    "        counter = 0\n",
    "\n",
    "        for epoch in range(num_epochs):\n",
    "            model.train()\n",
    "            epoch_loss_sum = 0.0\n",
    "            for i,(features,labels) in enumerate(train_loader):\n",
    "                optimizer.zero_grad()\n",
    "                outputs = model(features)\n",
    "                loss = criterion(outputs, labels)\n",
    "                epoch_loss_sum += loss.item()\n",
    "                loss.backward()\n",
    "                optimizer.step()\n",
    "\n",
    "            accuracy_validation = validate_model(model,val_loader)\n",
    "            if accuracy_validation-best_accuracy_validation>delta_threshold:\n",
    "                best_accuracy_validation=accuracy_validation\n",
    "                counter=0\n",
    "                torch.save(model.state_dict(),'best_model.pth')\n",
    "            else:\n",
    "                counter+=1\n",
    "\n",
    "            if counter>=patience:\n",
    "                break\n",
    "\n",
    "        model.load_state_dict(torch.load('best_model.pth'))\n",
    "        accuracy_scores.append(validate_model(model,val_loader))\n",
    "\n",
    "    return np.mean(accuracy_scores)\n",
    "\n",
    "# Carica i dati pre-elaborati\n",
    "train_features = np.load('Pre_Processed_Data/train_features.npy')\n",
    "train_labels = np.load('Pre_Processed_Data/train_labels.npy')\n",
    "X_train = torch.tensor(train_features).float()\n",
    "y_train = torch.tensor(train_labels).long()\n",
    "\n",
    "# Crea un'istanza del modello\n",
    "model = Net()\n",
    "\n",
    "# Definisci la funzione di perdita e l'ottimizzatore\n",
    "criterion = nn.CrossEntropyLoss()\n",
    "optimizer = torch.optim.SGD(model.parameters(), lr=0.01)\n",
    "\n",
    "# Esegui la convalida incrociata a 5 parti\n",
    "accuracy = cross_validate(model, criterion, optimizer, X_train, y_train)\n",
    "print(f'Accuracy with cross validation: {accuracy:.4f}')\n"
   ]
  },
  {
   "attachments": {},
   "cell_type": "markdown",
   "metadata": {},
   "source": [
    "Il modello ha un’accuratezza del 72,41% sul set di test. Questo significa che il modello è in grado di classificare correttamente circa il 72,41% dei dati di test. La matrice di confusione mostra che il modello ha classificato correttamente 59 esempi della classe 0 e 25 esempi della classe 1, mentre ha classificato erroneamente 14 esempi della classe 0 come classe 1 e 18 esempi della classe 1 come classe 0.\n",
    "\n",
    "Il rapporto di classificazione mostra diverse metriche per valutare le prestazioni del modello. La precisione per la classe 0 è 0.77, il che significa che il 77% delle previsioni del modello per la classe 0 sono corrette. La precisione per la classe 1 è 0.64, il che significa che il 64% delle previsioni del modello per la classe 1 sono corrette. Il richiamo per la classe 0 è 0.81, il che significa che il modello ha identificato correttamente l’81% degli esempi della classe 0. Il richiamo per la classe 1 è 0.58, il che significa che il modello ha identificato correttamente il 58% degli esempi della classe 1.\n",
    "\n",
    "L’area sotto la curva ROC (AUC) è un’altra metrica utilizzata per valutare le prestazioni del modello. Un valore AUC di 1 indica un modello perfetto, mentre un valore AUC di 0.5 indica un modello casuale. Nel tuo caso, l’AUC è 0.69, il che indica che il modello ha prestazioni migliori rispetto a un modello casuale.\n",
    "\n",
    "Infine, l’accuratezza con la cross validation è 0.6499, il che indica che le prestazioni del modello sono stabili quando viene addestrato su diverse parti dei dati.\n",
    "\n",
    "In generale, possiamo dire che questi risultati mostrano che il modello ha una buona capacità di classificare i dati di test e ha prestazioni stabili quando viene addestrato su diverse parti dei dati."
   ]
  }
 ],
 "metadata": {
  "kernelspec": {
   "display_name": "Python 3",
   "language": "python",
   "name": "python3"
  },
  "language_info": {
   "codemirror_mode": {
    "name": "ipython",
    "version": 3
   },
   "file_extension": ".py",
   "mimetype": "text/x-python",
   "name": "python",
   "nbconvert_exporter": "python",
   "pygments_lexer": "ipython3",
   "version": "3.11.3"
  },
  "orig_nbformat": 4
 },
 "nbformat": 4,
 "nbformat_minor": 2
}
