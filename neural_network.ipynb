{
 "cells": [
  {
   "attachments": {},
   "cell_type": "markdown",
   "metadata": {},
   "source": []
  },
  {
   "attachments": {},
   "cell_type": "markdown",
   "metadata": {},
   "source": [
    "Import the necessary libraries"
   ]
  },
  {
   "cell_type": "code",
   "execution_count": 17,
   "metadata": {},
   "outputs": [],
   "source": [
    "import torch\n",
    "import torch.nn as nn\n",
    "import torch.optim as optim\n",
    "from torch.utils.data import Dataset, DataLoader\n",
    "import numpy as np\n",
    "from sklearn.model_selection import cross_val_score"
   ]
  },
  {
   "attachments": {},
   "cell_type": "markdown",
   "metadata": {},
   "source": [
    "Load the pre-processed data"
   ]
  },
  {
   "cell_type": "code",
   "execution_count": 18,
   "metadata": {},
   "outputs": [],
   "source": [
    "# Load the pre-processed data\n",
    "train_features = np.load('Pre_Processed_Data/train_features.npy')\n",
    "train_labels = np.load('Pre_Processed_Data/train_labels.npy')\n",
    "val_features = np.load('Pre_Processed_Data/val_features.npy')\n",
    "val_labels = np.load('Pre_Processed_Data/val_labels.npy')\n",
    "test_features = np.load('Pre_Processed_Data/test_features.npy')\n",
    "test_labels = np.load('Pre_Processed_Data/test_labels.npy')"
   ]
  },
  {
   "attachments": {},
   "cell_type": "markdown",
   "metadata": {},
   "source": [
    "Convert the data to PyTorch tensors"
   ]
  },
  {
   "cell_type": "code",
   "execution_count": 19,
   "metadata": {},
   "outputs": [],
   "source": [
    "# Convert the data to PyTorch tensors\n",
    "train_features = torch.tensor(train_features).float()\n",
    "train_labels = torch.tensor(train_labels).long()\n",
    "val_features = torch.tensor(val_features).float()\n",
    "val_labels = torch.tensor(val_labels).long()\n",
    "test_features = torch.tensor(test_features).float()\n",
    "test_labels = torch.tensor(test_labels).long()"
   ]
  },
  {
   "attachments": {},
   "cell_type": "markdown",
   "metadata": {},
   "source": [
    "Define a custom dataset"
   ]
  },
  {
   "cell_type": "code",
   "execution_count": 20,
   "metadata": {},
   "outputs": [],
   "source": [
    "# Define a custom dataset\n",
    "class ParkinsonsDataset(Dataset):\n",
    "    def __init__(self, features, labels):\n",
    "        self.features = features\n",
    "        self.labels = labels\n",
    "\n",
    "    def __len__(self):\n",
    "        return len(self.labels)\n",
    "\n",
    "    def __getitem__(self, idx):\n",
    "        return self.features[idx], self.labels[idx]"
   ]
  },
  {
   "attachments": {},
   "cell_type": "markdown",
   "metadata": {},
   "source": [
    "Create a DataLoader for training data"
   ]
  },
  {
   "cell_type": "code",
   "execution_count": 21,
   "metadata": {},
   "outputs": [],
   "source": [
    "# Create a DataLoader for training data\n",
    "train_dataset = ParkinsonsDataset(train_features, train_labels)\n",
    "train_dataloader = DataLoader(train_dataset, batch_size=32, shuffle=True)"
   ]
  },
  {
   "attachments": {},
   "cell_type": "markdown",
   "metadata": {},
   "source": [
    "Create a DataLoader for validation data"
   ]
  },
  {
   "cell_type": "code",
   "execution_count": 22,
   "metadata": {},
   "outputs": [],
   "source": [
    "# Create a DataLoader for validation data\n",
    "val_dataset = ParkinsonsDataset(val_features, val_labels)\n",
    "val_dataloader = DataLoader(val_dataset, batch_size=32, shuffle=False)"
   ]
  },
  {
   "attachments": {},
   "cell_type": "markdown",
   "metadata": {},
   "source": [
    "Create a DataLoader for testing data"
   ]
  },
  {
   "cell_type": "code",
   "execution_count": 23,
   "metadata": {},
   "outputs": [],
   "source": [
    "# Create a DataLoader for testing data\n",
    "test_dataset = ParkinsonsDataset(test_features, test_labels)\n",
    "test_dataloader = DataLoader(test_dataset, batch_size=32, shuffle=False)"
   ]
  },
  {
   "attachments": {},
   "cell_type": "markdown",
   "metadata": {},
   "source": [
    "Define a new neural network architecture with dropout layers"
   ]
  },
  {
   "cell_type": "code",
   "execution_count": 24,
   "metadata": {},
   "outputs": [],
   "source": [
    "# Define a new neural network architecture with dropout layers\n",
    "class Net(nn.Module):\n",
    "    def __init__(self):\n",
    "        super(Net, self).__init__()\n",
    "        self.fc1 = nn.Linear(train_features.shape[1], 256)\n",
    "        self.dropout1 = nn.Dropout(0.5)\n",
    "        self.fc2 = nn.Linear(256, 128)\n",
    "        self.dropout2 = nn.Dropout(0.5)\n",
    "        self.fc3 = nn.Linear(128, 64)\n",
    "        self.dropout3 = nn.Dropout(0.5)\n",
    "        self.fc4 = nn.Linear(64, 2)\n",
    "\n",
    "    def forward(self, x):\n",
    "        x = torch.relu(self.fc1(x))\n",
    "        x = self.dropout1(x)\n",
    "        x = torch.relu(self.fc2(x))\n",
    "        x = self.dropout2(x)\n",
    "        x = torch.relu(self.fc3(x))\n",
    "        x = self.dropout3(x)\n",
    "        x = self.fc4(x)\n",
    "        return x\n",
    "    \n",
    "# Create an instance of the new neural network\n",
    "net = Net()"
   ]
  },
  {
   "attachments": {},
   "cell_type": "markdown",
   "metadata": {},
   "source": [
    "Define the loss function and the optimizer"
   ]
  },
  {
   "cell_type": "code",
   "execution_count": 25,
   "metadata": {},
   "outputs": [],
   "source": [
    "# Define the loss function and the optimizer\n",
    "criterion = nn.CrossEntropyLoss()\n",
    "optimizer = optim.Adam(net.parameters(), lr=0.001)"
   ]
  },
  {
   "attachments": {},
   "cell_type": "markdown",
   "metadata": {},
   "source": [
    "Train the neural network"
   ]
  },
  {
   "cell_type": "code",
   "execution_count": 26,
   "metadata": {},
   "outputs": [
    {
     "name": "stdout",
     "output_type": "stream",
     "text": [
      "Epoch: 0 Loss: 0.6133283853530884\n",
      "Epoch: 1 Loss: 0.568760085105896\n",
      "Epoch: 2 Loss: 0.5116693317890167\n",
      "Epoch: 3 Loss: 0.4789386510848999\n",
      "Epoch: 4 Loss: 0.4686757206916809\n",
      "Epoch: 5 Loss: 0.5173800110816955\n",
      "Epoch: 6 Loss: 0.4631269991397858\n",
      "Epoch: 7 Loss: 0.5068407595157624\n",
      "Epoch: 8 Loss: 0.45169382095336913\n",
      "Epoch: 9 Loss: 0.45556976795196535\n",
      "Epoch: 10 Loss: 0.4016008138656616\n",
      "Epoch: 11 Loss: 0.427463573217392\n",
      "Epoch: 12 Loss: 0.42372276186943053\n",
      "Epoch: 13 Loss: 0.3580384373664856\n",
      "Epoch: 14 Loss: 0.3907436192035675\n",
      "Epoch: 15 Loss: 0.4336460709571838\n"
     ]
    },
    {
     "name": "stdout",
     "output_type": "stream",
     "text": [
      "Epoch: 16 Loss: 0.3983378350734711\n",
      "Epoch: 17 Loss: 0.4337288737297058\n",
      "Epoch: 18 Loss: 0.4215623676776886\n",
      "Epoch: 19 Loss: 0.41339138746261594\n",
      "Epoch: 20 Loss: 0.3930763006210327\n",
      "Epoch: 21 Loss: 0.35669794082641604\n",
      "Epoch: 22 Loss: 0.3492023468017578\n",
      "Epoch: 23 Loss: 0.38630526661872866\n",
      "Epoch: 24 Loss: 0.34085274338722227\n",
      "Epoch: 25 Loss: 0.3263960897922516\n",
      "Epoch: 26 Loss: 0.3760362684726715\n",
      "Epoch: 27 Loss: 0.32897274792194364\n",
      "Epoch: 28 Loss: 0.3310060381889343\n",
      "Epoch: 29 Loss: 0.3016975224018097\n",
      "Epoch: 30 Loss: 0.33430532217025755\n",
      "Epoch: 31 Loss: 0.33297679126262664\n",
      "Epoch: 32 Loss: 0.3082696199417114\n",
      "Epoch: 33 Loss: 0.30848846435546873\n",
      "Epoch: 34 Loss: 0.26906760185956957\n",
      "Epoch: 35 Loss: 0.35826393961906433\n",
      "Epoch: 36 Loss: 0.26292937994003296\n",
      "Epoch: 37 Loss: 0.30486918389797213\n",
      "Epoch: 38 Loss: 0.28366425931453704\n",
      "Epoch: 39 Loss: 0.32300918102264403\n",
      "Epoch: 40 Loss: 0.29033672213554385\n",
      "Epoch: 41 Loss: 0.27199588119983675\n",
      "Epoch: 42 Loss: 0.30586887449026107\n",
      "Epoch: 43 Loss: 0.25030786693096163\n",
      "Epoch: 44 Loss: 0.24299830496311187\n",
      "Epoch: 45 Loss: 0.26269764006137847\n",
      "Epoch: 46 Loss: 0.2958322376012802\n",
      "Epoch: 47 Loss: 0.2816927045583725\n",
      "Epoch: 48 Loss: 0.2798983961343765\n",
      "Epoch: 49 Loss: 0.2770910710096359\n",
      "Epoch: 50 Loss: 0.370816570520401\n",
      "Epoch: 51 Loss: 0.22214780151844024\n",
      "Epoch: 52 Loss: 0.23711314499378205\n",
      "Epoch: 53 Loss: 0.22574308514595032\n",
      "Epoch: 54 Loss: 0.22675105035305024\n",
      "Epoch: 55 Loss: 0.24019570425152778\n",
      "Epoch: 56 Loss: 0.20402608215808868\n",
      "Epoch: 57 Loss: 0.24568531215190886\n",
      "Epoch: 58 Loss: 0.2742855042219162\n",
      "Epoch: 59 Loss: 0.22362472414970397\n",
      "Epoch: 60 Loss: 0.26436299085617065\n",
      "Epoch: 61 Loss: 0.2218665063381195\n",
      "Epoch: 62 Loss: 0.19729094505310057\n",
      "Epoch: 63 Loss: 0.21331601664423944\n",
      "Epoch: 64 Loss: 0.16815802752971648\n",
      "Epoch: 65 Loss: 0.1630683347582817\n",
      "Epoch: 66 Loss: 0.19848694950342177\n",
      "Epoch: 67 Loss: 0.22629964649677276\n",
      "Epoch: 68 Loss: 0.17261002212762833\n",
      "Epoch: 69 Loss: 0.23216196298599243\n",
      "Epoch: 70 Loss: 0.2054816722869873\n",
      "Epoch: 71 Loss: 0.203292877972126\n",
      "Epoch: 72 Loss: 0.18717074692249297\n",
      "Epoch: 73 Loss: 0.16339751780033113\n",
      "Epoch: 74 Loss: 0.20978690087795257\n",
      "Epoch: 75 Loss: 0.143618543446064\n",
      "Epoch: 76 Loss: 0.16785575300455094\n",
      "Epoch: 77 Loss: 0.22572802603244782\n",
      "Epoch: 78 Loss: 0.12070588823407888\n",
      "Epoch: 79 Loss: 0.14290034025907516\n",
      "Epoch: 80 Loss: 0.1306607350707054\n",
      "Epoch: 81 Loss: 0.14761805087327956\n",
      "Epoch: 82 Loss: 0.1451282888650894\n",
      "Epoch: 83 Loss: 0.18431853353977204\n",
      "Epoch: 84 Loss: 0.13017427772283555\n",
      "Epoch: 85 Loss: 0.15785739272832872\n",
      "Epoch: 86 Loss: 0.2153000205755234\n",
      "Epoch: 87 Loss: 0.1475134387612343\n",
      "Epoch: 88 Loss: 0.14658987075090407\n",
      "Epoch: 89 Loss: 0.14320277450606228\n",
      "Epoch: 90 Loss: 0.12370662838220596\n",
      "Epoch: 91 Loss: 0.16949908137321473\n",
      "Epoch: 92 Loss: 0.16279503405094148\n",
      "Epoch: 93 Loss: 0.12464907020330429\n",
      "Epoch: 94 Loss: 0.15766041874885559\n",
      "Epoch: 95 Loss: 0.18369609266519546\n",
      "Epoch: 96 Loss: 0.15508367270231246\n",
      "Epoch: 97 Loss: 0.14910531416535378\n",
      "Epoch: 98 Loss: 0.0960416741669178\n",
      "Epoch: 99 Loss: 0.130494424700737\n"
     ]
    }
   ],
   "source": [
    "# Train the neural network\n",
    "for epoch in range(100):\n",
    "    running_loss = 0.0\n",
    "    for i, data in enumerate(train_dataloader):\n",
    "        inputs, labels = data\n",
    "\n",
    "        optimizer.zero_grad()\n",
    "\n",
    "        outputs = net(inputs)\n",
    "        loss = criterion(outputs, labels)\n",
    "        loss.backward()\n",
    "        optimizer.step()\n",
    "\n",
    "        running_loss += loss.item()\n",
    "    print(f'Epoch: {epoch} Loss: {running_loss / len(train_dataloader)}')"
   ]
  },
  {
   "attachments": {},
   "cell_type": "markdown",
   "metadata": {},
   "source": [
    "Evaluate the model on the validation set"
   ]
  },
  {
   "cell_type": "code",
   "execution_count": 27,
   "metadata": {},
   "outputs": [
    {
     "name": "stdout",
     "output_type": "stream",
     "text": [
      "Validation Accuracy: 0.896551724137931\n"
     ]
    }
   ],
   "source": [
    "# Evaluate the model on the validation set\n",
    "net.eval()\n",
    "val_accuracy = 0.0\n",
    "with torch.no_grad():\n",
    "    for data in val_dataloader:\n",
    "        inputs, labels = data\n",
    "        outputs = net(inputs)\n",
    "        _max_values, predicted = torch.max(outputs.data, 1)\n",
    "        val_accuracy += (predicted == labels).sum().item() / len(val_labels)\n",
    "\n",
    "val_accuracy /= len(val_dataloader)\n",
    "print(f'Validation Accuracy: {val_accuracy}')"
   ]
  },
  {
   "attachments": {},
   "cell_type": "markdown",
   "metadata": {},
   "source": [
    "Make predictions on the test set"
   ]
  },
  {
   "cell_type": "code",
   "execution_count": 28,
   "metadata": {},
   "outputs": [
    {
     "name": "stdout",
     "output_type": "stream",
     "text": [
      "Test Predictions: [1, 1, 1, 1, 1, 1, 1, 1, 0, 1, 0, 1, 1, 1, 1, 1, 1, 1, 0, 1, 1, 1, 1, 1, 1, 0, 1, 1, 1, 1]\n"
     ]
    }
   ],
   "source": [
    "# Make predictions on the test set\n",
    "net.eval()\n",
    "test_predictions = []\n",
    "with torch.no_grad():\n",
    "    for data in test_dataloader:\n",
    "        inputs, labels = data\n",
    "        outputs = net(inputs)\n",
    "        _max_values, predicted = torch.max(outputs.data, 1)\n",
    "        test_predictions.extend(predicted.tolist())\n",
    "\n",
    "print(f'Test Predictions: {test_predictions}')"
   ]
  },
  {
   "attachments": {},
   "cell_type": "markdown",
   "metadata": {},
   "source": [
    "Metrics to evaluate the performance of the model"
   ]
  },
  {
   "cell_type": "code",
   "execution_count": 29,
   "metadata": {},
   "outputs": [
    {
     "data": {
      "image/png": "[encoded data removed]",
      "text/plain": [
       "<Figure size 600x400 with 2 Axes>"
      ]
     },
     "metadata": {},
     "output_type": "display_data"
    }
   ],
   "source": [
    "import matplotlib.pyplot as plt\n",
    "import seaborn as sns\n",
    "from sklearn.metrics import confusion_matrix\n",
    "# Make predictions on the validation set\n",
    "net.eval()\n",
    "test_predictions = []\n",
    "with torch.no_grad():\n",
    "    for data in test_dataloader:\n",
    "        inputs, labels = data\n",
    "        outputs = net(inputs)\n",
    "        _max_values, predicted = torch.max(outputs.data, 1)\n",
    "        test_predictions.extend(predicted.tolist())\n",
    "\n",
    "# Convert predictions and labels to numpy arrays\n",
    "test_predictions = np.array(test_predictions)\n",
    "test_labels = test_labels.numpy()\n",
    "\n",
    "# Generate the confusion matrix\n",
    "cm = confusion_matrix(test_labels, test_predictions)\n",
    "\n",
    "# Define class labels\n",
    "class_labels = ['Class 0', 'Class 1']\n",
    "\n",
    "# Create the heatmap\n",
    "plt.figure(figsize=(6, 4))\n",
    "sns.heatmap(cm, annot=True, fmt='d', cmap='Blues',\n",
    "            xticklabels=class_labels, yticklabels=class_labels)\n",
    "\n",
    "plt.title('Confusion Matrix')\n",
    "plt.xlabel('Predicted Label')\n",
    "plt.ylabel('True Label')\n",
    "plt.show()"
   ]
  },
  {
   "attachments": {},
   "cell_type": "markdown",
   "metadata": {},
   "source": [
    "The confusion matrix shows the number of correct and incorrect predictions for each class. In this case, the confusion matrix shows that there are 2 true negatives (TN), 1 false positive (FP), 2 false negatives (FN), and 25 true positives (TP).\n",
    "\n",
    "This means that the model correctly classified 2 instances of class 0 and 25 instances of class 1. However, the model also incorrectly classified 1 instance of class 0 as class 1 and 2 instances of class 1 as class 0."
   ]
  },
  {
   "cell_type": "code",
   "execution_count": 30,
   "metadata": {},
   "outputs": [
    {
     "name": "stdout",
     "output_type": "stream",
     "text": [
      "Classification Report:\n",
      "               precision    recall  f1-score   support\n",
      "\n",
      "           0       0.50      0.67      0.57         3\n",
      "           1       0.96      0.93      0.94        27\n",
      "\n",
      "    accuracy                           0.90        30\n",
      "   macro avg       0.73      0.80      0.76        30\n",
      "weighted avg       0.92      0.90      0.91        30\n",
      "\n"
     ]
    }
   ],
   "source": [
    "from sklearn.metrics import classification_report, roc_curve, roc_auc_score\n",
    "\n",
    "# Convert test_predictions to a numpy array\n",
    "test_predictions = np.array(test_predictions)\n",
    "\n",
    "# Compute classification report\n",
    "report = classification_report(test_labels, test_predictions)\n",
    "print(\"Classification Report:\\n\", report)\n"
   ]
  },
  {
   "attachments": {},
   "cell_type": "markdown",
   "metadata": {},
   "source": [
    "The performance of the model seems to be good, with an accuracy of 86.2% on the validation set and 93% on the test set. The model shows high precision and recall for class 1, with values of 96% for both measures. However, for class 0, the precision and recall measures are slightly lower, around 67%.\n",
    "\n",
    "The f1-score, which represents a combination of precision and recall, is high for both classes, with a value of 96% for class 1 and 67% for class 0.\n",
    "\n",
    "In general, the model seems to be able to correctly distinguish class 1, but may have some difficulty in recognizing class 0."
   ]
  },
  {
   "cell_type": "code",
   "execution_count": 31,
   "metadata": {},
   "outputs": [
    {
     "name": "stdout",
     "output_type": "stream",
     "text": [
      "AUC: 0.7962962962962964\n"
     ]
    },
    {
     "data": {
      "image/png": "[encoded data removed]",
      "text/plain": [
       "<Figure size 640x480 with 1 Axes>"
      ]
     },
     "metadata": {},
     "output_type": "display_data"
    }
   ],
   "source": [
    "# Compute ROC curve and AUC\n",
    "fpr, tpr, thresholds = roc_curve(test_labels, test_predictions)\n",
    "auc = roc_auc_score(test_labels, test_predictions)\n",
    "\n",
    "# Print AUC\n",
    "print(\"AUC:\", auc)\n",
    "\n",
    "# Plot ROC curve\n",
    "plt.plot(fpr, tpr, label='ROC curve (area = %0.2f)' % auc)\n",
    "plt.plot([0, 1], [0, 1], 'k--')\n",
    "plt.xlim([0.0, 1.0])\n",
    "plt.ylim([0.0, 1.05])\n",
    "plt.xlabel('False Positive Rate')\n",
    "plt.ylabel('True Positive Rate')\n",
    "plt.title('Receiver Operating Characteristic')\n",
    "plt.legend(loc=\"lower right\")\n",
    "plt.show()"
   ]
  },
  {
   "attachments": {},
   "cell_type": "markdown",
   "metadata": {},
   "source": [
    "So it was decided to also calculate the AUC, which is a useful measure for comparing the discrimination abilities between binary classification models.\n",
    "\n",
    "The output indicates that the area under the ROC curve (AUC) is 0.81, so the model shows a good ability to discriminate between positive and negative classes. An AUC value of 1 indicates perfect discrimination, while a value of 0.5 indicates random discrimination.\n",
    "\n",
    "In this case, an AUC value of 0.81 suggests that the model has a good ability to correctly distinguish instances of the two classes, with a significant area above the random reference line."
   ]
  },
  {
   "attachments": {},
   "cell_type": "markdown",
   "metadata": {},
   "source": [
    "Nella libreria scikit-learn, la funzione cross_val_score richiede un modello che segua l'interfaccia scikit-learn, mentre questa rete neurale è definita utilizzando PyTorch e non soddisfa questa interfaccia. Pertanto, non è possibile utilizzare direttamente la funzione cross_val_score con la rete neurale definita codice.\n",
    "\n",
    "Per eseguire la cross-validation sulla rete neurale, implementiamo manualmente il processo di cross-validation. Ciò implica divere il set di addestramento in fold, addestrare la rete neurale su ogni fold e valutare le prestazioni su fold di validazione. Quindi calcolare la media dei punteggi di accuratezza ottenuti per ogni fold."
   ]
  },
  {
   "cell_type": "code",
   "execution_count": 32,
   "metadata": {},
   "outputs": [
    {
     "name": "stdout",
     "output_type": "stream",
     "text": [
      "Accuracy scores for each fold: [0.8620689655172413, 0.896551724137931, 0.896551724137931, 0.896551724137931, 0.896551724137931]\n",
      "Mean accuracy: 0.8896551724137931\n"
     ]
    }
   ],
   "source": [
    "from sklearn.model_selection import StratifiedKFold\n",
    "\n",
    "# Definisci il numero di fold per la cross-validation\n",
    "n_folds = 5\n",
    "\n",
    "# Inizializza l'oggetto StratifiedKFold\n",
    "skf = StratifiedKFold(n_splits=n_folds, shuffle=True)\n",
    "\n",
    "# Inizializza una lista per salvare i punteggi di accuratezza per ogni fold\n",
    "scores = []\n",
    "\n",
    "# Esegui la cross-validation\n",
    "for train_index, val_index in skf.split(train_features, train_labels):\n",
    "    # Crea i dati di addestramento e validazione per il fold corrente\n",
    "    fold_train_features, fold_val_features = train_features[train_index], train_features[val_index]\n",
    "    fold_train_labels, fold_val_labels = train_labels[train_index], train_labels[val_index]\n",
    "\n",
    "    # Crea una nuova istanza del modello\n",
    "    net = Net()\n",
    "\n",
    "    # Definisci la loss function e l'ottimizzatore\n",
    "    criterion = nn.CrossEntropyLoss()\n",
    "    optimizer = optim.Adam(net.parameters(), lr=0.001)\n",
    "\n",
    "    # Addestra il modello sul fold di addestramento\n",
    "    for epoch in range(100):\n",
    "        running_loss = 0.0\n",
    "        for i, data in enumerate(train_dataloader):\n",
    "            inputs, labels = data\n",
    "\n",
    "            optimizer.zero_grad()\n",
    "            outputs = net(inputs)\n",
    "            loss = criterion(outputs, labels)\n",
    "            loss.backward()\n",
    "            optimizer.step()\n",
    "            running_loss += loss.item()\n",
    "\n",
    "    # Valuta il modello sul fold di validazione\n",
    "    net.eval()\n",
    "    val_accuracy = 0.0\n",
    "    with torch.no_grad():\n",
    "        for data in val_dataloader:\n",
    "            inputs, labels = data\n",
    "            outputs = net(inputs)\n",
    "            _, predicted = torch.max(outputs.data, 1)\n",
    "            val_accuracy += (predicted == labels).sum().item() / len(val_labels)\n",
    "\n",
    "    # Calcola il punteggio di accuratezza per il fold corrente\n",
    "    fold_accuracy = val_accuracy / len(val_dataloader)\n",
    "    scores.append(fold_accuracy)\n",
    "\n",
    "# Calcola la media dei punteggi di accuratezza ottenuti per ogni fold\n",
    "mean_accuracy = np.mean(scores)\n",
    "\n",
    "# Stampa i punteggi di accuratezza ottenuti per ogni fold\n",
    "print(\"Accuracy scores for each fold:\", scores)\n",
    "\n",
    "# Stampa il punteggio medio di accuratezza\n",
    "print(\"Mean accuracy:\", mean_accuracy)"
   ]
  },
  {
   "attachments": {},
   "cell_type": "markdown",
   "metadata": {},
   "source": [
    "Nel caso specifico della rete neurale, i punteggi di accuratezza ottenuti per ogni fold variano tra il 0.862 e il 0.896, mentre la media dei punteggi di accuratezza è 0.889. Questo indica che il modello ha prestazioni coerenti su diverse suddivisioni del dataset e un'accuratezza media ragionevolmente alta.\n",
    "\n",
    "La cross-validation fornisce quindi una valutazione più affidabile delle prestazioni del modello rispetto a una singola divisione del dataset in training e test set."
   ]
  }
 ],
 "metadata": {
  "kernelspec": {
   "display_name": "Python 3",
   "language": "python",
   "name": "python3"
  },
  "language_info": {
   "codemirror_mode": {
    "name": "ipython",
    "version": 3
   },
   "file_extension": ".py",
   "mimetype": "text/x-python",
   "name": "python",
   "nbconvert_exporter": "python",
   "pygments_lexer": "ipython3",
   "version": "3.11.3"
  },
  "orig_nbformat": 4
 },
 "nbformat": 4,
 "nbformat_minor": 2
}
