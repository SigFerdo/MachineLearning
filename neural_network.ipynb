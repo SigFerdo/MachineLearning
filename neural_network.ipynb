{
 "cells": [
  {
   "attachments": {},
   "cell_type": "markdown",
   "metadata": {},
   "source": []
  },
  {
   "attachments": {},
   "cell_type": "markdown",
   "metadata": {},
   "source": [
    "Import the necessary libraries"
   ]
  },
  {
   "cell_type": "code",
   "execution_count": 66,
   "metadata": {},
   "outputs": [],
   "source": [
    "import torch\n",
    "import torch.nn as nn\n",
    "import torch.optim as optim\n",
    "from torch.utils.data import Dataset, DataLoader\n",
    "import numpy as np"
   ]
  },
  {
   "attachments": {},
   "cell_type": "markdown",
   "metadata": {},
   "source": [
    "Load the pre-processed data"
   ]
  },
  {
   "cell_type": "code",
   "execution_count": 67,
   "metadata": {},
   "outputs": [],
   "source": [
    "# Load the pre-processed data\n",
    "train_features = np.load('Pre_Processed_Data/train_features.npy')\n",
    "train_labels = np.load('Pre_Processed_Data/train_labels.npy')\n",
    "val_features = np.load('Pre_Processed_Data/val_features.npy')\n",
    "val_labels = np.load('Pre_Processed_Data/val_labels.npy')\n",
    "test_features = np.load('Pre_Processed_Data/test_features.npy')\n",
    "test_labels = np.load('Pre_Processed_Data/test_labels.npy')"
   ]
  },
  {
   "attachments": {},
   "cell_type": "markdown",
   "metadata": {},
   "source": [
    "Convert the data to PyTorch tensors"
   ]
  },
  {
   "cell_type": "code",
   "execution_count": 68,
   "metadata": {},
   "outputs": [],
   "source": [
    "# Convert the data to PyTorch tensors\n",
    "train_features = torch.tensor(train_features).float()\n",
    "train_labels = torch.tensor(train_labels).long()\n",
    "val_features = torch.tensor(val_features).float()\n",
    "val_labels = torch.tensor(val_labels).long()\n",
    "test_features = torch.tensor(test_features).float()\n",
    "test_labels = torch.tensor(test_labels).long()"
   ]
  },
  {
   "attachments": {},
   "cell_type": "markdown",
   "metadata": {},
   "source": [
    "Define a custom dataset"
   ]
  },
  {
   "cell_type": "code",
   "execution_count": 69,
   "metadata": {},
   "outputs": [],
   "source": [
    "# Define a custom dataset\n",
    "class ParkinsonsDataset(Dataset):\n",
    "    def __init__(self, features, labels):\n",
    "        self.features = features\n",
    "        self.labels = labels\n",
    "\n",
    "    def __len__(self):\n",
    "        return len(self.labels)\n",
    "\n",
    "    def __getitem__(self, idx):\n",
    "        return self.features[idx], self.labels[idx]"
   ]
  },
  {
   "attachments": {},
   "cell_type": "markdown",
   "metadata": {},
   "source": [
    "Create a DataLoader for training data"
   ]
  },
  {
   "cell_type": "code",
   "execution_count": 70,
   "metadata": {},
   "outputs": [],
   "source": [
    "# Create a DataLoader for training data\n",
    "train_dataset = ParkinsonsDataset(train_features, train_labels)\n",
    "train_dataloader = DataLoader(train_dataset, batch_size=32, shuffle=True)"
   ]
  },
  {
   "attachments": {},
   "cell_type": "markdown",
   "metadata": {},
   "source": [
    "Create a DataLoader for validation data"
   ]
  },
  {
   "cell_type": "code",
   "execution_count": 71,
   "metadata": {},
   "outputs": [],
   "source": [
    "# Create a DataLoader for validation data\n",
    "val_dataset = ParkinsonsDataset(val_features, val_labels)\n",
    "val_dataloader = DataLoader(val_dataset, batch_size=32, shuffle=False)"
   ]
  },
  {
   "attachments": {},
   "cell_type": "markdown",
   "metadata": {},
   "source": [
    "Create a DataLoader for testing data"
   ]
  },
  {
   "cell_type": "code",
   "execution_count": 72,
   "metadata": {},
   "outputs": [],
   "source": [
    "# Create a DataLoader for testing data\n",
    "test_dataset = ParkinsonsDataset(test_features, test_labels)\n",
    "test_dataloader = DataLoader(test_dataset, batch_size=32, shuffle=False)"
   ]
  },
  {
   "attachments": {},
   "cell_type": "markdown",
   "metadata": {},
   "source": [
    "Define a new neural network architecture with dropout layers"
   ]
  },
  {
   "cell_type": "code",
   "execution_count": 73,
   "metadata": {},
   "outputs": [],
   "source": [
    "# Define a new neural network architecture with dropout layers\n",
    "class Net(nn.Module):\n",
    "    def __init__(self):\n",
    "        super(Net, self).__init__()\n",
    "        self.fc1 = nn.Linear(train_features.shape[1], 256)\n",
    "        self.dropout1 = nn.Dropout(0.5)\n",
    "        self.fc2 = nn.Linear(256, 128)\n",
    "        self.dropout2 = nn.Dropout(0.5)\n",
    "        self.fc3 = nn.Linear(128, 64)\n",
    "        self.dropout3 = nn.Dropout(0.5)\n",
    "        self.fc4 = nn.Linear(64, 2)\n",
    "\n",
    "    def forward(self, x):\n",
    "        x = torch.relu(self.fc1(x))\n",
    "        x = self.dropout1(x)\n",
    "        x = torch.relu(self.fc2(x))\n",
    "        x = self.dropout2(x)\n",
    "        x = torch.relu(self.fc3(x))\n",
    "        x = self.dropout3(x)\n",
    "        x = self.fc4(x)\n",
    "        return x\n",
    "    \n",
    "# Create an instance of the new neural network\n",
    "net = Net()"
   ]
  },
  {
   "attachments": {},
   "cell_type": "markdown",
   "metadata": {},
   "source": [
    "Define the loss function and the optimizer"
   ]
  },
  {
   "cell_type": "code",
   "execution_count": 74,
   "metadata": {},
   "outputs": [],
   "source": [
    "# Define the loss function and the optimizer\n",
    "criterion = nn.CrossEntropyLoss()\n",
    "optimizer = optim.Adam(net.parameters(), lr=0.001)"
   ]
  },
  {
   "attachments": {},
   "cell_type": "markdown",
   "metadata": {},
   "source": [
    "Train the neural network"
   ]
  },
  {
   "cell_type": "code",
   "execution_count": 75,
   "metadata": {},
   "outputs": [
    {
     "name": "stdout",
     "output_type": "stream",
     "text": [
      "Epoch: 0 Loss: 0.6618843674659729\n",
      "Epoch: 1 Loss: 0.609945785999298\n",
      "Epoch: 2 Loss: 0.5900903701782226\n",
      "Epoch: 3 Loss: 0.5133006513118744\n",
      "Epoch: 4 Loss: 0.4916321814060211\n",
      "Epoch: 5 Loss: 0.471534663438797\n",
      "Epoch: 6 Loss: 0.4903164803981781\n",
      "Epoch: 7 Loss: 0.4495352149009705\n",
      "Epoch: 8 Loss: 0.4817763030529022\n",
      "Epoch: 9 Loss: 0.43971216678619385\n",
      "Epoch: 10 Loss: 0.3962165415287018\n",
      "Epoch: 11 Loss: 0.41818617582321166\n",
      "Epoch: 12 Loss: 0.39865570068359374\n",
      "Epoch: 13 Loss: 0.3894114553928375\n",
      "Epoch: 14 Loss: 0.37381676137447356\n",
      "Epoch: 15 Loss: 0.39580037593841555\n",
      "Epoch: 16 Loss: 0.3369135677814484\n",
      "Epoch: 17 Loss: 0.35640453100204467\n",
      "Epoch: 18 Loss: 0.3822458565235138\n",
      "Epoch: 19 Loss: 0.3327271044254303\n",
      "Epoch: 20 Loss: 0.3685815930366516\n",
      "Epoch: 21 Loss: 0.3258274048566818\n",
      "Epoch: 22 Loss: 0.3463822901248932\n",
      "Epoch: 23 Loss: 0.35688677728176116\n",
      "Epoch: 24 Loss: 0.3375639647245407\n",
      "Epoch: 25 Loss: 0.391723507642746\n",
      "Epoch: 26 Loss: 0.35013248920440676\n",
      "Epoch: 27 Loss: 0.3077813804149628\n",
      "Epoch: 28 Loss: 0.28934203684329984\n",
      "Epoch: 29 Loss: 0.3194901138544083\n",
      "Epoch: 30 Loss: 0.29097830653190615\n",
      "Epoch: 31 Loss: 0.38214242160320283\n",
      "Epoch: 32 Loss: 0.276661741733551\n",
      "Epoch: 33 Loss: 0.3277809381484985\n",
      "Epoch: 34 Loss: 0.33715069591999053\n",
      "Epoch: 35 Loss: 0.3038835644721985\n",
      "Epoch: 36 Loss: 0.24386195614933967\n",
      "Epoch: 37 Loss: 0.328661772608757\n",
      "Epoch: 38 Loss: 0.34845905303955077\n",
      "Epoch: 39 Loss: 0.29756427705287936\n",
      "Epoch: 40 Loss: 0.25277964025735855\n",
      "Epoch: 41 Loss: 0.27928189337253573\n",
      "Epoch: 42 Loss: 0.2545969635248184\n",
      "Epoch: 43 Loss: 0.2515521556138992\n",
      "Epoch: 44 Loss: 0.22926759719848633\n",
      "Epoch: 45 Loss: 0.26153607070446017\n",
      "Epoch: 46 Loss: 0.24603065550327302\n",
      "Epoch: 47 Loss: 0.31445426046848296\n",
      "Epoch: 48 Loss: 0.23111332654953004\n",
      "Epoch: 49 Loss: 0.2746484100818634\n",
      "Epoch: 50 Loss: 0.2548478037118912\n",
      "Epoch: 51 Loss: 0.2711739957332611\n",
      "Epoch: 52 Loss: 0.22522120475769042\n",
      "Epoch: 53 Loss: 0.3230113059282303\n",
      "Epoch: 54 Loss: 0.22303319424390794\n",
      "Epoch: 55 Loss: 0.21562767922878265\n",
      "Epoch: 56 Loss: 0.29613749086856844\n",
      "Epoch: 57 Loss: 0.24137406945228576\n",
      "Epoch: 58 Loss: 0.23611992597579956\n",
      "Epoch: 59 Loss: 0.1855938255786896\n",
      "Epoch: 60 Loss: 0.21058995723724366\n",
      "Epoch: 61 Loss: 0.14907585680484772\n",
      "Epoch: 62 Loss: 0.17589671909809113\n",
      "Epoch: 63 Loss: 0.18761140406131743\n",
      "Epoch: 64 Loss: 0.20313486009836196\n",
      "Epoch: 65 Loss: 0.2458808958530426\n",
      "Epoch: 66 Loss: 0.16529574245214462\n",
      "Epoch: 67 Loss: 0.1902547925710678\n",
      "Epoch: 68 Loss: 0.17211646735668182\n",
      "Epoch: 69 Loss: 0.1658683493733406\n",
      "Epoch: 70 Loss: 0.15940286517143248\n",
      "Epoch: 71 Loss: 0.1940792292356491\n",
      "Epoch: 72 Loss: 0.2016735702753067\n",
      "Epoch: 73 Loss: 0.22735930234193802\n",
      "Epoch: 74 Loss: 0.20351257026195527\n",
      "Epoch: 75 Loss: 0.2629821378737688\n",
      "Epoch: 76 Loss: 0.18534964621067046\n",
      "Epoch: 77 Loss: 0.18611631989479066\n",
      "Epoch: 78 Loss: 0.18490559756755828\n",
      "Epoch: 79 Loss: 0.16642535328865052\n",
      "Epoch: 80 Loss: 0.15847571194171906\n",
      "Epoch: 81 Loss: 0.12643269300460816\n",
      "Epoch: 82 Loss: 0.11025817021727562\n",
      "Epoch: 83 Loss: 0.16492388248443604\n",
      "Epoch: 84 Loss: 0.16883591711521148\n",
      "Epoch: 85 Loss: 0.08131349459290504\n",
      "Epoch: 86 Loss: 0.15787921249866485\n",
      "Epoch: 87 Loss: 0.20319617092609404\n",
      "Epoch: 88 Loss: 0.12408019490540027\n",
      "Epoch: 89 Loss: 0.1415872026234865\n",
      "Epoch: 90 Loss: 0.18342643827199936\n",
      "Epoch: 91 Loss: 0.10981116890907287\n",
      "Epoch: 92 Loss: 0.12110439017415046\n",
      "Epoch: 93 Loss: 0.13806057423353196\n",
      "Epoch: 94 Loss: 0.16421522647142411\n",
      "Epoch: 95 Loss: 0.10217019468545914\n",
      "Epoch: 96 Loss: 0.09867656081914902\n",
      "Epoch: 97 Loss: 0.13428983092308044\n",
      "Epoch: 98 Loss: 0.09685472026467323\n",
      "Epoch: 99 Loss: 0.11368761062622071\n"
     ]
    }
   ],
   "source": [
    "# Train the neural network\n",
    "for epoch in range(100):\n",
    "    running_loss = 0.0\n",
    "    for i, data in enumerate(train_dataloader):\n",
    "        inputs, labels = data\n",
    "\n",
    "        optimizer.zero_grad()\n",
    "\n",
    "        outputs = net(inputs)\n",
    "        loss = criterion(outputs, labels)\n",
    "        loss.backward()\n",
    "        optimizer.step()\n",
    "\n",
    "        running_loss += loss.item()\n",
    "    print(f'Epoch: {epoch} Loss: {running_loss / len(train_dataloader)}')"
   ]
  },
  {
   "attachments": {},
   "cell_type": "markdown",
   "metadata": {},
   "source": [
    "Evaluate the model on the validation set"
   ]
  },
  {
   "cell_type": "code",
   "execution_count": 76,
   "metadata": {},
   "outputs": [
    {
     "name": "stdout",
     "output_type": "stream",
     "text": [
      "Validation Accuracy: 0.9310344827586207\n"
     ]
    }
   ],
   "source": [
    "# Evaluate the model on the validation set\n",
    "net.eval()\n",
    "val_accuracy = 0.0\n",
    "with torch.no_grad():\n",
    "    for data in val_dataloader:\n",
    "        inputs, labels = data\n",
    "        outputs = net(inputs)\n",
    "        _max_values, predicted = torch.max(outputs.data, 1)\n",
    "        val_accuracy += (predicted == labels).sum().item() / len(val_labels)\n",
    "\n",
    "val_accuracy /= len(val_dataloader)\n",
    "print(f'Validation Accuracy: {val_accuracy}')"
   ]
  },
  {
   "attachments": {},
   "cell_type": "markdown",
   "metadata": {},
   "source": [
    "Make predictions on the test set"
   ]
  },
  {
   "cell_type": "code",
   "execution_count": 77,
   "metadata": {},
   "outputs": [
    {
     "name": "stdout",
     "output_type": "stream",
     "text": [
      "Test Predictions: [1, 1, 1, 1, 1, 1, 0, 1, 1, 1, 0, 1, 1, 1, 1, 1, 1, 1, 0, 1, 1, 1, 1, 1, 1, 1, 1, 1, 1, 1]\n"
     ]
    }
   ],
   "source": [
    "# Make predictions on the test set\n",
    "net.eval()\n",
    "test_predictions = []\n",
    "with torch.no_grad():\n",
    "    for data in test_dataloader:\n",
    "        inputs, labels = data\n",
    "        outputs = net(inputs)\n",
    "        _max_values, predicted = torch.max(outputs.data, 1)\n",
    "        test_predictions.extend(predicted.tolist())\n",
    "\n",
    "print(f'Test Predictions: {test_predictions}')"
   ]
  },
  {
   "attachments": {},
   "cell_type": "markdown",
   "metadata": {},
   "source": []
  },
  {
   "cell_type": "code",
   "execution_count": 78,
   "metadata": {},
   "outputs": [
    {
     "data": {
      "image/png": "[encoded data removed]",
      "text/plain": [
       "<Figure size 600x400 with 2 Axes>"
      ]
     },
     "metadata": {},
     "output_type": "display_data"
    }
   ],
   "source": [
    "import matplotlib.pyplot as plt\n",
    "import seaborn as sns\n",
    "from sklearn.metrics import confusion_matrix\n",
    "# Make predictions on the validation set\n",
    "net.eval()\n",
    "test_predictions = []\n",
    "with torch.no_grad():\n",
    "    for data in test_dataloader:\n",
    "        inputs, labels = data\n",
    "        outputs = net(inputs)\n",
    "        _max_values, predicted = torch.max(outputs.data, 1)\n",
    "        test_predictions.extend(predicted.tolist())\n",
    "\n",
    "# Convert predictions and labels to numpy arrays\n",
    "test_predictions = np.array(test_predictions)\n",
    "test_labels = test_labels.numpy()\n",
    "\n",
    "# Generate the confusion matrix\n",
    "cm = confusion_matrix(test_labels, test_predictions)\n",
    "\n",
    "# Define class labels\n",
    "class_labels = ['Class 0', 'Class 1']\n",
    "\n",
    "# Create the heatmap\n",
    "plt.figure(figsize=(6, 4))\n",
    "sns.heatmap(cm, annot=True, fmt='d', cmap='Blues',\n",
    "            xticklabels=class_labels, yticklabels=class_labels)\n",
    "\n",
    "plt.title('Confusion Matrix')\n",
    "plt.xlabel('Predicted Label')\n",
    "plt.ylabel('True Label')\n",
    "plt.show()"
   ]
  },
  {
   "attachments": {},
   "cell_type": "markdown",
   "metadata": {},
   "source": [
    "The confusion matrix shows the number of correct and incorrect predictions for each class. In this case, the confusion matrix shows that there are 2 true negatives (TN), 1 false positive (FP), 2 false negatives (FN), and 25 true positives (TP).\n",
    "\n",
    "This means that the model correctly classified 2 instances of class 0 and 25 instances of class 1. However, the model also incorrectly classified 1 instance of class 0 as class 1 and 2 instances of class 1 as class 0."
   ]
  },
  {
   "cell_type": "code",
   "execution_count": 79,
   "metadata": {},
   "outputs": [
    {
     "ename": "AttributeError",
     "evalue": "'numpy.ndarray' object has no attribute 'numpy'",
     "output_type": "error",
     "traceback": [
      "\u001b[1;31m---------------------------------------------------------------------------\u001b[0m",
      "\u001b[1;31mAttributeError\u001b[0m                            Traceback (most recent call last)",
      "Cell \u001b[1;32mIn[79], line 5\u001b[0m\n\u001b[0;32m      3\u001b[0m \u001b[39m# Convert test_predictions and test_labels to numpy arrays\u001b[39;00m\n\u001b[0;32m      4\u001b[0m test_predictions \u001b[39m=\u001b[39m np\u001b[39m.\u001b[39marray(test_predictions)\n\u001b[1;32m----> 5\u001b[0m test_labels \u001b[39m=\u001b[39m test_labels\u001b[39m.\u001b[39;49mnumpy()\n\u001b[0;32m      7\u001b[0m \u001b[39m# Compute classification report\u001b[39;00m\n\u001b[0;32m      8\u001b[0m report \u001b[39m=\u001b[39m classification_report(test_labels, test_predictions)\n",
      "\u001b[1;31mAttributeError\u001b[0m: 'numpy.ndarray' object has no attribute 'numpy'"
     ]
    }
   ],
   "source": [
    "from sklearn.metrics import classification_report, roc_curve, roc_auc_score\n",
    "\n",
    "# Convert test_predictions to a numpy array\n",
    "test_predictions = np.array(test_predictions)\n",
    "\n",
    "# Compute classification report\n",
    "report = classification_report(test_labels, test_predictions)\n",
    "print(\"Classification Report:\\n\", report)\n",
    "\n",
    "# Compute ROC curve and AUC\n",
    "fpr, tpr, thresholds = roc_curve(test_labels, test_predictions)\n",
    "auc = roc_auc_score(test_labels, test_predictions)\n",
    "\n",
    "# Plot ROC curve\n",
    "plt.plot(fpr, tpr, label='ROC curve (area = %0.2f)' % auc)\n",
    "plt.plot([0, 1], [0, 1], 'k--')\n",
    "plt.xlim([0.0, 1.0])\n",
    "plt.ylim([0.0, 1.05])\n",
    "plt.xlabel('False Positive Rate')\n",
    "plt.ylabel('True Positive Rate')\n",
    "plt.title('Receiver Operating Characteristic')\n",
    "plt.legend(loc=\"lower right\")\n",
    "plt.show()\n"
   ]
  }
 ],
 "metadata": {
  "kernelspec": {
   "display_name": "Python 3",
   "language": "python",
   "name": "python3"
  },
  "language_info": {
   "codemirror_mode": {
    "name": "ipython",
    "version": 3
   },
   "file_extension": ".py",
   "mimetype": "text/x-python",
   "name": "python",
   "nbconvert_exporter": "python",
   "pygments_lexer": "ipython3",
   "version": "3.11.3"
  },
  "orig_nbformat": 4
 },
 "nbformat": 4,
 "nbformat_minor": 2
}
