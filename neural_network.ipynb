{
 "cells": [
  {
   "attachments": {},
   "cell_type": "markdown",
   "metadata": {},
   "source": [
    "## Neural Network"
   ]
  },
  {
   "cell_type": "code",
   "execution_count": 32,
   "metadata": {},
   "outputs": [],
   "source": [
    "import torch\n",
    "from torch import nn\n",
    "import numpy as np\n",
    "from torch.utils.data import TensorDataset, DataLoader\n",
    "from sklearn.metrics import  classification_report, roc_curve, roc_auc_score, confusion_matrix\n",
    "import matplotlib.pyplot as plt\n",
    "import seaborn as sns\n",
    "\n",
    "# Loading pre processed datas\n",
    "train_features = np.load('Pre_Processed_Data/train_features.npy')\n",
    "train_labels = np.load('Pre_Processed_Data/train_labels.npy')\n",
    "val_features = np.load('Pre_Processed_Data/val_features.npy')\n",
    "val_labels = np.load('Pre_Processed_Data/val_labels.npy')\n",
    "test_features = np.load('Pre_Processed_Data/test_features.npy')\n",
    "test_labels = np.load('Pre_Processed_Data/test_labels.npy')\n",
    "weights = np.load('Pre_Processed_Data\\class_weights.npy', allow_pickle=True).item()"
   ]
  },
  {
   "attachments": {},
   "cell_type": "markdown",
   "metadata": {},
   "source": [
    "# Let's convert data to PyTorch tensors"
   ]
  },
  {
   "cell_type": "code",
   "execution_count": 33,
   "metadata": {},
   "outputs": [],
   "source": [
    "# Convert the class weight dictionary to a PyTorch tensor of type Float\n",
    "weights_tensor = torch.tensor([weights[i] for i in range(len(weights))]).float()\n",
    "\n",
    "X_train = torch.tensor(train_features).float()\n",
    "y_train = torch.tensor(train_labels).long()\n",
    "X_val = torch.tensor(val_features).float()\n",
    "y_val = torch.tensor(val_labels).long()\n",
    "X_test = torch.tensor(test_features).float()\n",
    "y_test = torch.tensor(test_labels).long()"
   ]
  },
  {
   "attachments": {},
   "cell_type": "markdown",
   "metadata": {},
   "source": [
    "# Creating DataLoaders for the training and validation set"
   ]
  },
  {
   "cell_type": "code",
   "execution_count": 34,
   "metadata": {},
   "outputs": [],
   "source": [
    "batch_size = 10\n",
    "train_data = TensorDataset(X_train, y_train)\n",
    "train_loader = DataLoader(train_data, batch_size=batch_size, shuffle=True)\n",
    "val_data = TensorDataset(X_val, y_val)\n",
    "val_loader = DataLoader(val_data, batch_size=batch_size)\n",
    "test_data = TensorDataset(X_test, y_test)\n",
    "test_loader = DataLoader(test_data, batch_size=batch_size)"
   ]
  },
  {
   "attachments": {},
   "cell_type": "markdown",
   "metadata": {},
   "source": [
    "# Defining neural network architecture"
   ]
  },
  {
   "cell_type": "code",
   "execution_count": 35,
   "metadata": {},
   "outputs": [],
   "source": [
    "class Net(nn.Module):\n",
    "    def __init__(self):\n",
    "        super(Net, self).__init__()\n",
    "        self.fc1 = nn.Linear(train_features.shape[1], 512)\n",
    "        self.dropout1 = nn.Dropout(0.5)\n",
    "        self.fc2 = nn.Linear(512, 256)\n",
    "        self.dropout2 = nn.Dropout(0.5)\n",
    "        self.fc3 = nn.Linear(256, 128)\n",
    "        self.dropout3 = nn.Dropout(0.5)\n",
    "        self.fc4 = nn.Linear(128, 64)\n",
    "        self.dropout4 = nn.Dropout(0.5)\n",
    "        self.fc5 = nn.Linear(64, 2)\n",
    "\n",
    "    def forward(self, x):\n",
    "        x = torch.relu(self.fc1(x))\n",
    "        x = self.dropout1(x)\n",
    "        x = torch.relu(self.fc2(x))\n",
    "        x = self.dropout2(x)\n",
    "        x = torch.relu(self.fc3(x))\n",
    "        x = self.dropout3(x)\n",
    "        # Pass data through the new hidden layer\n",
    "        x = torch.relu(self.fc4(x))\n",
    "        x = self.dropout4(x)\n",
    "        x = self.fc5(x)\n",
    "        return x"
   ]
  },
  {
   "attachments": {},
   "cell_type": "markdown",
   "metadata": {},
   "source": [
    "# Creating an instance of the model"
   ]
  },
  {
   "cell_type": "code",
   "execution_count": 36,
   "metadata": {},
   "outputs": [],
   "source": [
    "model = Net()"
   ]
  },
  {
   "attachments": {},
   "cell_type": "markdown",
   "metadata": {},
   "source": [
    "# Let's define the loss function and the optimizer"
   ]
  },
  {
   "cell_type": "code",
   "execution_count": 37,
   "metadata": {},
   "outputs": [],
   "source": [
    "# I define the loss function and optimizer with class weights\n",
    "# I create an instance of the CrossEntropyLoss policy using class weights\n",
    "\n",
    "criterion = nn.CrossEntropyLoss(weight=weights_tensor)\n",
    "optimizer = torch.optim.SGD(model.parameters(), lr=0.1)"
   ]
  },
  {
   "attachments": {},
   "cell_type": "markdown",
   "metadata": {},
   "source": [
    "# Defining the function to validate the model on the validation set"
   ]
  },
  {
   "cell_type": "code",
   "execution_count": 38,
   "metadata": {},
   "outputs": [],
   "source": [
    "def validate_model(model, validation_loader):\n",
    "    model.eval()\n",
    "    correct_predictions = 0\n",
    "    total_predictions = 0\n",
    "    loss_function = nn.CrossEntropyLoss(weight=weights_tensor)\n",
    "    \n",
    "    with torch.no_grad():\n",
    "        for features, labels in validation_loader:\n",
    "            outputs = model(features)\n",
    "            loss= loss_function(outputs,labels) \n",
    "\n",
    "    return loss"
   ]
  },
  {
   "attachments": {},
   "cell_type": "markdown",
   "metadata": {},
   "source": [
    "# I define the variables for early stopping"
   ]
  },
  {
   "cell_type": "code",
   "execution_count": 39,
   "metadata": {},
   "outputs": [],
   "source": [
    "# Definisci le variabili per l'early stopping\n",
    "best_accuracy_validation = np.inf  # Valore iniziale per il confronto\n",
    "patience = 20  # Numero di epoche per tollerare la diminuzione dell'accuratezza sul set di validazione\n",
    "delta_threshold = 0.0001    # Soglia di miglioramento basata sull'accuratezza sul set di validazione\n",
    "counter = 0  # Contatore per il numero di epoche senza miglioramento"
   ]
  },
  {
   "attachments": {},
   "cell_type": "markdown",
   "metadata": {},
   "source": [
    "# Training the model"
   ]
  },
  {
   "cell_type": "code",
   "execution_count": 40,
   "metadata": {},
   "outputs": [
    {
     "name": "stdout",
     "output_type": "stream",
     "text": [
      "Epoch [1/1000], Loss: 0.6936\n",
      "tensor(0.6933)\n",
      "Epoch [2/1000], Loss: 0.6930\n",
      "tensor(0.6914)\n",
      "Epoch [3/1000], Loss: 0.6908\n",
      "tensor(0.6788)\n",
      "Epoch [4/1000], Loss: 0.6854\n",
      "tensor(0.6956)\n",
      "Epoch [5/1000], Loss: 0.6861\n",
      "tensor(0.6776)\n",
      "Epoch [6/1000], Loss: 0.6664\n",
      "tensor(0.6341)\n",
      "Epoch [7/1000], Loss: 0.6344\n",
      "tensor(0.6232)\n",
      "Epoch [8/1000], Loss: 0.6167\n",
      "tensor(0.5604)\n",
      "Epoch [9/1000], Loss: 0.6374\n",
      "tensor(0.5444)\n",
      "Epoch [10/1000], Loss: 0.5970\n",
      "tensor(0.5880)\n",
      "Epoch [10/1000], Accuracy on validation set: 0.5880\n",
      "Epoch [11/1000], Loss: 0.5996\n",
      "tensor(0.5279)\n",
      "Epoch [12/1000], Loss: 0.6087\n",
      "tensor(0.5375)\n",
      "Epoch [13/1000], Loss: 0.5643\n",
      "tensor(0.5338)\n",
      "Epoch [14/1000], Loss: 0.6036\n",
      "tensor(0.5126)\n",
      "Epoch [15/1000], Loss: 0.5828\n",
      "tensor(0.5699)\n",
      "Epoch [16/1000], Loss: 0.5541\n",
      "tensor(0.4892)\n",
      "Epoch [17/1000], Loss: 0.5890\n",
      "tensor(0.4923)\n",
      "Epoch [18/1000], Loss: 0.5322\n",
      "tensor(0.4815)\n",
      "Epoch [19/1000], Loss: 0.5543\n",
      "tensor(0.5918)\n",
      "Epoch [20/1000], Loss: 0.5442\n",
      "tensor(0.4895)\n",
      "Epoch [20/1000], Accuracy on validation set: 0.4895\n",
      "Epoch [21/1000], Loss: 0.5543\n",
      "tensor(0.4587)\n",
      "Epoch [22/1000], Loss: 0.5488\n",
      "tensor(0.5056)\n",
      "Epoch [23/1000], Loss: 0.5577\n",
      "tensor(0.4336)\n",
      "Epoch [24/1000], Loss: 0.5405\n",
      "tensor(0.4514)\n",
      "Epoch [25/1000], Loss: 0.5605\n",
      "tensor(0.5161)\n",
      "Epoch [26/1000], Loss: 0.5228\n",
      "tensor(0.4815)\n",
      "Epoch [27/1000], Loss: 0.5127\n",
      "tensor(0.5107)\n",
      "Epoch [28/1000], Loss: 0.5400\n",
      "tensor(0.4910)\n",
      "Epoch [29/1000], Loss: 0.5086\n",
      "tensor(0.4411)\n",
      "Epoch [30/1000], Loss: 0.5291\n",
      "tensor(0.4277)\n",
      "Epoch [30/1000], Accuracy on validation set: 0.4277\n",
      "Epoch [31/1000], Loss: 0.5105\n",
      "tensor(0.4542)\n",
      "Epoch [32/1000], Loss: 0.5500\n",
      "tensor(0.5092)\n",
      "Epoch [33/1000], Loss: 0.5375\n",
      "tensor(0.5044)\n",
      "Epoch [34/1000], Loss: 0.5091\n",
      "tensor(0.4312)\n",
      "Epoch [35/1000], Loss: 0.5408\n",
      "tensor(0.4182)\n",
      "Epoch [36/1000], Loss: 0.5148\n",
      "tensor(0.4284)\n",
      "Epoch [37/1000], Loss: 0.5275\n",
      "tensor(0.4678)\n",
      "Epoch [38/1000], Loss: 0.5267\n",
      "tensor(0.4460)\n",
      "Epoch [39/1000], Loss: 0.5085\n",
      "tensor(0.4474)\n",
      "Epoch [40/1000], Loss: 0.4986\n",
      "tensor(0.4212)\n",
      "Epoch [40/1000], Accuracy on validation set: 0.4212\n",
      "Epoch [41/1000], Loss: 0.5297\n",
      "tensor(0.4377)\n",
      "Epoch [42/1000], Loss: 0.5129\n",
      "tensor(0.3961)\n",
      "Epoch [43/1000], Loss: 0.5271\n",
      "tensor(0.4652)\n",
      "Epoch [44/1000], Loss: 0.5088\n",
      "tensor(0.4153)\n",
      "Epoch [45/1000], Loss: 0.5114\n",
      "tensor(0.4058)\n",
      "Epoch [46/1000], Loss: 0.5127\n",
      "tensor(0.4482)\n",
      "Epoch [47/1000], Loss: 0.5235\n",
      "tensor(0.3788)\n",
      "Epoch [48/1000], Loss: 0.5172\n",
      "tensor(0.4233)\n",
      "Epoch [49/1000], Loss: 0.5194\n",
      "tensor(0.3935)\n",
      "Epoch [50/1000], Loss: 0.4769\n",
      "tensor(0.3854)\n",
      "Epoch [50/1000], Accuracy on validation set: 0.3854\n",
      "Epoch [51/1000], Loss: 0.4968\n",
      "tensor(0.4231)\n",
      "Epoch [52/1000], Loss: 0.4971\n",
      "tensor(0.3928)\n",
      "Epoch [53/1000], Loss: 0.5094\n",
      "tensor(0.4120)\n",
      "Epoch [54/1000], Loss: 0.5299\n",
      "tensor(0.4127)\n",
      "Epoch [55/1000], Loss: 0.4981\n",
      "tensor(0.4035)\n",
      "Epoch [56/1000], Loss: 0.4607\n",
      "tensor(0.4800)\n",
      "Epoch [57/1000], Loss: 0.5247\n",
      "tensor(0.3994)\n",
      "Epoch [58/1000], Loss: 0.4749\n",
      "tensor(0.4005)\n",
      "Epoch [59/1000], Loss: 0.4970\n",
      "tensor(0.3909)\n",
      "Epoch [60/1000], Loss: 0.5075\n",
      "tensor(0.4042)\n",
      "Epoch [60/1000], Accuracy on validation set: 0.4042\n",
      "Epoch [61/1000], Loss: 0.5230\n",
      "tensor(0.4063)\n",
      "Epoch [62/1000], Loss: 0.5061\n",
      "tensor(0.4378)\n",
      "Epoch [63/1000], Loss: 0.4785\n",
      "tensor(0.5270)\n",
      "Epoch [64/1000], Loss: 0.5075\n",
      "tensor(0.4763)\n",
      "Epoch [65/1000], Loss: 0.4734\n",
      "tensor(0.4084)\n",
      "Epoch [66/1000], Loss: 0.5040\n",
      "tensor(0.4154)\n",
      "Epoch [67/1000], Loss: 0.4994\n",
      "tensor(0.4241)\n",
      "Stopping early at epoch 67\n"
     ]
    }
   ],
   "source": [
    "num_epochs=1000 \n",
    "for epoch in range(num_epochs):\n",
    "    model.train() \n",
    "    epoch_loss_sum=0.0 \n",
    "    for i,(features,labels) in enumerate(train_loader):\n",
    "        optimizer.zero_grad() \n",
    "        outputs=model(features) \n",
    "        loss=criterion(outputs,labels) \n",
    "        epoch_loss_sum+=loss.item() \n",
    "        loss.backward() \n",
    "        optimizer.step() \n",
    "    epoch_loss_avg=epoch_loss_sum/len(train_loader) \n",
    "    print(f'Epoch [{epoch + 1}/{num_epochs}], Loss: {epoch_loss_avg:.4f}')\n",
    "    \n",
    "    # Verifico se l'accuratezza corrente sul set di validazione è migliore dell'accuratezza migliore finora\n",
    "    accuracy_validation=validate_model(model,val_loader) \n",
    "    print(accuracy_validation)\n",
    "    if best_accuracy_validation - accuracy_validation>delta_threshold: \n",
    "        best_accuracy_validation = accuracy_validation \n",
    "        counter=0 \n",
    "        torch.save(model.state_dict(),'best_model.pth') \n",
    "    else: \n",
    "        counter+=1 \n",
    "\n",
    "    # Stampo l'accuratezza sul set di validazione ogni 10 epoche\n",
    "    if (epoch + 1) % 10 == 0:\n",
    "        print(f'Epoch [{epoch + 1}/{num_epochs}], Accuracy on validation set: {accuracy_validation:.4f}')\n",
    "\n",
    "    if counter>=patience: \n",
    "        print(f'Stopping early at epoch {epoch + 1}')\n",
    "        break"
   ]
  },
  {
   "attachments": {},
   "cell_type": "markdown",
   "metadata": {},
   "source": [
    "# Carica il miglior modello"
   ]
  },
  {
   "cell_type": "code",
   "execution_count": 41,
   "metadata": {},
   "outputs": [
    {
     "data": {
      "text/plain": [
       "<All keys matched successfully>"
      ]
     },
     "execution_count": 41,
     "metadata": {},
     "output_type": "execute_result"
    }
   ],
   "source": [
    "# Loading the best model\n",
    "model.load_state_dict(torch.load('best_model.pth'))"
   ]
  },
  {
   "attachments": {},
   "cell_type": "markdown",
   "metadata": {},
   "source": [
    "# Evaluating the model on test set"
   ]
  },
  {
   "cell_type": "code",
   "execution_count": 42,
   "metadata": {},
   "outputs": [
    {
     "name": "stdout",
     "output_type": "stream",
     "text": [
      "Accuracy on test set: 0.6797\n"
     ]
    }
   ],
   "source": [
    "model.eval()\n",
    "correct = 0\n",
    "total = 0\n",
    "\n",
    "with torch.no_grad():\n",
    "    for features, labels in test_loader:\n",
    "        outputs = model(features)\n",
    "        _tmp, test_predictions = torch.max(outputs.data, 1)\n",
    "        total += labels.size(0)\n",
    "        correct += (test_predictions == labels).sum().item() \n",
    "\n",
    "# accuracy\n",
    "accuracy = correct/total\n",
    "print(f'Accuracy on test set: {accuracy:.4f}')"
   ]
  },
  {
   "attachments": {},
   "cell_type": "markdown",
   "metadata": {},
   "source": [
    "# Confusion Matrix"
   ]
  },
  {
   "cell_type": "code",
   "execution_count": 43,
   "metadata": {},
   "outputs": [
    {
     "data": {
      "image/png": "[encoded data removed]",
      "text/plain": [
       "<Figure size 600x400 with 2 Axes>"
      ]
     },
     "metadata": {},
     "output_type": "display_data"
    }
   ],
   "source": [
    "# Compute confusion matrix\n",
    "y_true = []\n",
    "y_pred = []\n",
    "\n",
    "with torch.no_grad():\n",
    "    for features, labels in test_loader:\n",
    "        outputs = model(features)\n",
    "        _tmp, test_predictions = torch.max(outputs.data, 1)\n",
    "        y_true.extend(labels.tolist())\n",
    "        y_pred.extend(test_predictions.tolist())\n",
    "\n",
    "cm = confusion_matrix(y_true, y_pred)\n",
    "\n",
    "# Define class labels\n",
    "class_labels = ['Class 0', 'Class 1']\n",
    "\n",
    "plt.figure(figsize=(6, 4))\n",
    "sns.heatmap(cm, annot=True, fmt='d', cmap='Purples',\n",
    "            xticklabels=class_labels, yticklabels=class_labels)\n",
    "\n",
    "plt.title('Confusion Matrix')\n",
    "plt.xlabel('Predicted Label')\n",
    "plt.ylabel('True Label')\n",
    "plt.show()"
   ]
  },
  {
   "attachments": {},
   "cell_type": "markdown",
   "metadata": {},
   "source": [
    "# Classification Report"
   ]
  },
  {
   "cell_type": "code",
   "execution_count": 44,
   "metadata": {},
   "outputs": [
    {
     "name": "stdout",
     "output_type": "stream",
     "text": [
      "Classification Report:\n",
      "               precision    recall  f1-score   support\n",
      "\n",
      "           0       0.90      0.58      0.70       151\n",
      "           1       0.52      0.88      0.65        80\n",
      "\n",
      "    accuracy                           0.68       231\n",
      "   macro avg       0.71      0.73      0.68       231\n",
      "weighted avg       0.77      0.68      0.69       231\n",
      "\n"
     ]
    }
   ],
   "source": [
    "model.eval()\n",
    "test_predictions = []\n",
    "\n",
    "with torch.no_grad():\n",
    "    for features, labels in test_loader:\n",
    "        outputs = model(features)\n",
    "        _tmp, batch_predictions = torch.max(outputs.data, 1)\n",
    "        test_predictions.extend(batch_predictions.tolist())\n",
    "\n",
    "# Calcolo il report di classificazione\n",
    "report = classification_report(test_labels.tolist(), test_predictions)\n",
    "print(\"Classification Report:\\n\", report)"
   ]
  },
  {
   "attachments": {},
   "cell_type": "markdown",
   "metadata": {},
   "source": [
    "# ROC and AUC"
   ]
  },
  {
   "cell_type": "code",
   "execution_count": 45,
   "metadata": {},
   "outputs": [
    {
     "data": {
      "image/png": "[encoded data removed]",
      "text/plain": [
       "<Figure size 800x600 with 1 Axes>"
      ]
     },
     "metadata": {},
     "output_type": "display_data"
    },
    {
     "name": "stdout",
     "output_type": "stream",
     "text": [
      "AUC: 0.8061258278145695\n"
     ]
    }
   ],
   "source": [
    "model.eval()\n",
    "test_probabilities = []\n",
    "\n",
    "with torch.no_grad():\n",
    "    for features, labels in test_loader:\n",
    "        outputs = model(features)\n",
    "        probabilities = torch.softmax(outputs, dim=1)\n",
    "        test_probabilities.extend(probabilities[:, 1].tolist())\n",
    "\n",
    "# Calcolo la curva ROC e l'AUC\n",
    "fpr, tpr, thresholds = roc_curve(test_labels.tolist(), test_probabilities)\n",
    "auc = roc_auc_score(test_labels.tolist(), test_probabilities)\n",
    "\n",
    "# Plot della curva ROC\n",
    "plt.figure(figsize=(8, 6))\n",
    "plt.plot(fpr, tpr, label=f'AUC = {auc:.4f}')\n",
    "plt.plot([0, 1], [0, 1], 'k--')\n",
    "plt.xlim([0, 1])\n",
    "plt.ylim([0, 1])\n",
    "plt.xlabel('False Positive Rate')\n",
    "plt.ylabel('True Positive Rate')\n",
    "plt.title('Receiver Operating Characteristic')\n",
    "plt.legend(loc='lower right')\n",
    "plt.show()\n",
    "\n",
    "print(\"AUC:\", auc)"
   ]
  },
  {
   "attachments": {},
   "cell_type": "markdown",
   "metadata": {},
   "source": [
    "# Cross Validation"
   ]
  },
  {
   "cell_type": "code",
   "execution_count": 46,
   "metadata": {},
   "outputs": [
    {
     "name": "stdout",
     "output_type": "stream",
     "text": [
      "Accuracy with cross validation: 0.7066\n"
     ]
    }
   ],
   "source": [
    "from sklearn.model_selection import KFold\n",
    "\n",
    "def cross_validate(model, criterion, optimizer, X, y, k=5):\n",
    "    kfold = KFold(n_splits=k)\n",
    "    accuracy_scores = []\n",
    "\n",
    "    for train_index, val_index in kfold.split(X):\n",
    "        X_train, X_val = X[train_index], X[val_index]\n",
    "        y_train, y_val = y[train_index], y[val_index]\n",
    "\n",
    "        train_data = TensorDataset(X_train, y_train)\n",
    "        train_loader = DataLoader(train_data, batch_size=batch_size, shuffle=True)\n",
    "        val_data = TensorDataset(X_val, y_val)\n",
    "        val_loader = DataLoader(val_data, batch_size=batch_size)\n",
    "\n",
    "        best_accuracy_validation = 0\n",
    "        counter = 0\n",
    "\n",
    "        for epoch in range(num_epochs):\n",
    "            model.train()\n",
    "            epoch_loss_sum = 0.0\n",
    "            for i, (features, labels) in enumerate(train_loader):\n",
    "                optimizer.zero_grad()\n",
    "                outputs = model(features)\n",
    "                loss = criterion(outputs, labels)\n",
    "                epoch_loss_sum += loss.item()\n",
    "                loss.backward()\n",
    "                optimizer.step()\n",
    "\n",
    "            model.eval()\n",
    "            correct = 0\n",
    "            total = 0\n",
    "            with torch.no_grad():\n",
    "                for features, labels in val_loader:\n",
    "                    outputs = model(features)\n",
    "                    _, predicted = torch.max(outputs.data, 1)\n",
    "                    total += labels.size(0)\n",
    "                    correct += (predicted == labels).sum().item()\n",
    "\n",
    "            accuracy_validation = correct / total\n",
    "            if accuracy_validation > best_accuracy_validation:\n",
    "                best_accuracy_validation = accuracy_validation\n",
    "                counter = 0\n",
    "                torch.save(model.state_dict(), 'best_model.pth')\n",
    "            else:\n",
    "                counter += 1\n",
    "\n",
    "            if counter >= patience:\n",
    "                break\n",
    "\n",
    "        model.load_state_dict(torch.load('best_model.pth'))\n",
    "        accuracy_scores.append(accuracy_validation)\n",
    "\n",
    "    return np.mean(accuracy_scores)\n",
    "\n",
    "\n",
    "model = Net()\n",
    "\n",
    "criterion = nn.CrossEntropyLoss(weight=weights_tensor)\n",
    "optimizer = torch.optim.SGD(model.parameters(), lr=0.1)\n",
    "\n",
    "accuracy = cross_validate(model, criterion, optimizer, X_train, y_train)\n",
    "print(f'Accuracy with cross validation: {accuracy:.4f}')"
   ]
  }
 ],
 "metadata": {
  "kernelspec": {
   "display_name": "Python 3",
   "language": "python",
   "name": "python3"
  },
  "language_info": {
   "codemirror_mode": {
    "name": "ipython",
    "version": 3
   },
   "file_extension": ".py",
   "mimetype": "text/x-python",
   "name": "python",
   "nbconvert_exporter": "python",
   "pygments_lexer": "ipython3",
   "version": "3.11.3"
  },
  "orig_nbformat": 4
 },
 "nbformat": 4,
 "nbformat_minor": 2
}
